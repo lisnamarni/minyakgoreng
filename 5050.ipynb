{
 "cells": [
  {
   "cell_type": "code",
   "execution_count": 58,
   "id": "e9a66af0",
   "metadata": {},
   "outputs": [],
   "source": [
    "#Import library yang dibutuhkan untuk proses klasifikasi\n",
    "import pandas as pd\n",
    "import numpy as np\n",
    "import string #library untuk bekerja dengan text\n",
    "import re #import modul regular expression # regex untuk membersihkan kata kata tweet"
   ]
  },
  {
   "cell_type": "code",
   "execution_count": 59,
   "id": "488147fc",
   "metadata": {},
   "outputs": [
    {
     "data": {
      "text/html": [
       "<div>\n",
       "<style scoped>\n",
       "    .dataframe tbody tr th:only-of-type {\n",
       "        vertical-align: middle;\n",
       "    }\n",
       "\n",
       "    .dataframe tbody tr th {\n",
       "        vertical-align: top;\n",
       "    }\n",
       "\n",
       "    .dataframe thead th {\n",
       "        text-align: right;\n",
       "    }\n",
       "</style>\n",
       "<table border=\"1\" class=\"dataframe\">\n",
       "  <thead>\n",
       "    <tr style=\"text-align: right;\">\n",
       "      <th></th>\n",
       "      <th>text</th>\n",
       "      <th>label</th>\n",
       "    </tr>\n",
       "  </thead>\n",
       "  <tbody>\n",
       "    <tr>\n",
       "      <th>0</th>\n",
       "      <td>biaya langka minyak goreng masyarakat indonesi...</td>\n",
       "      <td>0</td>\n",
       "    </tr>\n",
       "    <tr>\n",
       "      <th>1</th>\n",
       "      <td>minyak goreng curah subsidi perintah belum ada...</td>\n",
       "      <td>0</td>\n",
       "    </tr>\n",
       "    <tr>\n",
       "      <th>2</th>\n",
       "      <td>tidak perlu larang ekspor cpo daya bulog toko ...</td>\n",
       "      <td>1</td>\n",
       "    </tr>\n",
       "    <tr>\n",
       "      <th>3</th>\n",
       "      <td>minyak goreng tidak ada pasar ciampea bogor</td>\n",
       "      <td>1</td>\n",
       "    </tr>\n",
       "    <tr>\n",
       "      <th>4</th>\n",
       "      <td>anggota komisi vii dpr ri mulyanto perintah ja...</td>\n",
       "      <td>0</td>\n",
       "    </tr>\n",
       "    <tr>\n",
       "      <th>...</th>\n",
       "      <td>...</td>\n",
       "      <td>...</td>\n",
       "    </tr>\n",
       "    <tr>\n",
       "      <th>995</th>\n",
       "      <td>biaya langka minyak goreng timbul rugi ekonomi...</td>\n",
       "      <td>1</td>\n",
       "    </tr>\n",
       "    <tr>\n",
       "      <th>996</th>\n",
       "      <td>minyak goreng biaya sawit turun</td>\n",
       "      <td>1</td>\n",
       "    </tr>\n",
       "    <tr>\n",
       "      <th>997</th>\n",
       "      <td>warga barang beli warteg minyak goreng</td>\n",
       "      <td>0</td>\n",
       "    </tr>\n",
       "    <tr>\n",
       "      <th>998</th>\n",
       "      <td>perintah negara kembang produk red palm oil rp...</td>\n",
       "      <td>0</td>\n",
       "    </tr>\n",
       "    <tr>\n",
       "      <th>999</th>\n",
       "      <td>warga beli warteg minyak goreng</td>\n",
       "      <td>0</td>\n",
       "    </tr>\n",
       "  </tbody>\n",
       "</table>\n",
       "<p>1000 rows × 2 columns</p>\n",
       "</div>"
      ],
      "text/plain": [
       "                                                  text  label\n",
       "0    biaya langka minyak goreng masyarakat indonesi...      0\n",
       "1    minyak goreng curah subsidi perintah belum ada...      0\n",
       "2    tidak perlu larang ekspor cpo daya bulog toko ...      1\n",
       "3          minyak goreng tidak ada pasar ciampea bogor      1\n",
       "4    anggota komisi vii dpr ri mulyanto perintah ja...      0\n",
       "..                                                 ...    ...\n",
       "995  biaya langka minyak goreng timbul rugi ekonomi...      1\n",
       "996                    minyak goreng biaya sawit turun      1\n",
       "997             warga barang beli warteg minyak goreng      0\n",
       "998  perintah negara kembang produk red palm oil rp...      0\n",
       "999                    warga beli warteg minyak goreng      0\n",
       "\n",
       "[1000 rows x 2 columns]"
      ]
     },
     "execution_count": 59,
     "metadata": {},
     "output_type": "execute_result"
    }
   ],
   "source": [
    "#Import data CSV hasil dari proses pre-processing dan penghapusan data ganda yang ingin diproses dalam tahapan klasifikasi\n",
    "# header_list = [\"text\",\"label\"]\n",
    "# ddata_label = pd.read_csv('D:/data2023/databersih.csv', names=header_list)\n",
    "# data_label\n",
    "\n",
    "header_list = [\"text\",\"label\"]\n",
    "data_label = pd.read_csv('D:/data2023/databersih.csv', names=header_list)\n",
    "data_label"
   ]
  },
  {
   "cell_type": "code",
   "execution_count": 60,
   "id": "98a93480",
   "metadata": {},
   "outputs": [
    {
     "data": {
      "text/plain": [
       "0    589\n",
       "1    411\n",
       "Name: label, dtype: int64"
      ]
     },
     "execution_count": 60,
     "metadata": {},
     "output_type": "execute_result"
    }
   ],
   "source": [
    "label_count = data_label['label'].value_counts()\n",
    "label_count"
   ]
  },
  {
   "cell_type": "code",
   "execution_count": 61,
   "id": "eb4eaf14",
   "metadata": {},
   "outputs": [
    {
     "data": {
      "text/plain": [
       "<AxesSubplot:>"
      ]
     },
     "execution_count": 61,
     "metadata": {},
     "output_type": "execute_result"
    },
    {
     "data": {
      "image/png": "[encoded data removed]",
      "text/plain": [
       "<Figure size 432x288 with 1 Axes>"
      ]
     },
     "metadata": {
      "needs_background": "light"
     },
     "output_type": "display_data"
    }
   ],
   "source": [
    "# Import Matplotlib Dan Seaborn\n",
    "import matplotlib.pyplot as plt\n",
    "import seaborn as sns\n",
    "%matplotlib inline\n",
    "\n",
    "data_label.label.value_counts().plot(kind='bar')\n"
   ]
  },
  {
   "cell_type": "code",
   "execution_count": 62,
   "id": "83ab9783",
   "metadata": {},
   "outputs": [
    {
     "data": {
      "image/png": "[encoded data removed]",
      "text/plain": [
       "<Figure size 432x288 with 1 Axes>"
      ]
     },
     "metadata": {},
     "output_type": "display_data"
    }
   ],
   "source": [
    "#Data to plot\n",
    "# labels = ['negative','positive']\n",
    "# colors = (\"#FF968A\",\"#6EB5FF\")\n",
    "\n",
    "labels = ['negative','positive']\n",
    "colors = (\"#FF5F6D\",\"#6EB5FF\")\n",
    "\n",
    "explode = (0.01,0.1) #explode 1st slice\n",
    "\n",
    "#plot\n",
    "fig,ax = plt.subplots()\n",
    "ax.pie(data_label.label.value_counts(), labels=labels, autopct='%.1f%%', explode=explode, shadow=True, colors=colors)\n",
    "ax.legend(labels,loc='best')\n",
    "ax.set_aspect('equal')\n",
    "plt.tight_layout\n",
    "plt.show()\n",
    "\n",
    "#plt.savefig('pie.png')"
   ]
  },
  {
   "cell_type": "code",
   "execution_count": 63,
   "id": "137f0f2a",
   "metadata": {},
   "outputs": [
    {
     "data": {
      "text/html": [
       "<div>\n",
       "<style scoped>\n",
       "    .dataframe tbody tr th:only-of-type {\n",
       "        vertical-align: middle;\n",
       "    }\n",
       "\n",
       "    .dataframe tbody tr th {\n",
       "        vertical-align: top;\n",
       "    }\n",
       "\n",
       "    .dataframe thead th {\n",
       "        text-align: right;\n",
       "    }\n",
       "</style>\n",
       "<table border=\"1\" class=\"dataframe\">\n",
       "  <thead>\n",
       "    <tr style=\"text-align: right;\">\n",
       "      <th></th>\n",
       "      <th>text</th>\n",
       "      <th>label</th>\n",
       "    </tr>\n",
       "  </thead>\n",
       "  <tbody>\n",
       "    <tr>\n",
       "      <th>0</th>\n",
       "      <td>biaya langka minyak goreng masyarakat indonesi...</td>\n",
       "      <td>0</td>\n",
       "    </tr>\n",
       "    <tr>\n",
       "      <th>1</th>\n",
       "      <td>minyak goreng curah subsidi perintah belum ada...</td>\n",
       "      <td>0</td>\n",
       "    </tr>\n",
       "    <tr>\n",
       "      <th>4</th>\n",
       "      <td>anggota komisi vii dpr ri mulyanto perintah ja...</td>\n",
       "      <td>0</td>\n",
       "    </tr>\n",
       "    <tr>\n",
       "      <th>6</th>\n",
       "      <td>aneh pas biaya liter nyarinya susah gilir biay...</td>\n",
       "      <td>0</td>\n",
       "    </tr>\n",
       "    <tr>\n",
       "      <th>7</th>\n",
       "      <td>asli minyak goreng mahal nyarinya susah tanpa ...</td>\n",
       "      <td>0</td>\n",
       "    </tr>\n",
       "  </tbody>\n",
       "</table>\n",
       "</div>"
      ],
      "text/plain": [
       "                                                text  label\n",
       "0  biaya langka minyak goreng masyarakat indonesi...      0\n",
       "1  minyak goreng curah subsidi perintah belum ada...      0\n",
       "4  anggota komisi vii dpr ri mulyanto perintah ja...      0\n",
       "6  aneh pas biaya liter nyarinya susah gilir biay...      0\n",
       "7  asli minyak goreng mahal nyarinya susah tanpa ...      0"
      ]
     },
     "execution_count": 63,
     "metadata": {},
     "output_type": "execute_result"
    }
   ],
   "source": [
    "df = data_label[data_label['label']== 0]\n",
    "df.head()"
   ]
  },
  {
   "cell_type": "code",
   "execution_count": 64,
   "id": "f8183bfe",
   "metadata": {},
   "outputs": [
    {
     "data": {
      "text/html": [
       "<div>\n",
       "<style scoped>\n",
       "    .dataframe tbody tr th:only-of-type {\n",
       "        vertical-align: middle;\n",
       "    }\n",
       "\n",
       "    .dataframe tbody tr th {\n",
       "        vertical-align: top;\n",
       "    }\n",
       "\n",
       "    .dataframe thead th {\n",
       "        text-align: right;\n",
       "    }\n",
       "</style>\n",
       "<table border=\"1\" class=\"dataframe\">\n",
       "  <thead>\n",
       "    <tr style=\"text-align: right;\">\n",
       "      <th></th>\n",
       "      <th>text</th>\n",
       "      <th>label</th>\n",
       "    </tr>\n",
       "  </thead>\n",
       "  <tbody>\n",
       "    <tr>\n",
       "      <th>2</th>\n",
       "      <td>tidak perlu larang ekspor cpo daya bulog toko ...</td>\n",
       "      <td>1</td>\n",
       "    </tr>\n",
       "    <tr>\n",
       "      <th>3</th>\n",
       "      <td>minyak goreng tidak ada pasar ciampea bogor</td>\n",
       "      <td>1</td>\n",
       "    </tr>\n",
       "    <tr>\n",
       "      <th>5</th>\n",
       "      <td>minyak goreng belum lihat taban</td>\n",
       "      <td>1</td>\n",
       "    </tr>\n",
       "    <tr>\n",
       "      <th>14</th>\n",
       "      <td>biaya minyak goreng turun</td>\n",
       "      <td>1</td>\n",
       "    </tr>\n",
       "    <tr>\n",
       "      <th>15</th>\n",
       "      <td>belum lagi daerah daerah pencil butuh minyak g...</td>\n",
       "      <td>1</td>\n",
       "    </tr>\n",
       "  </tbody>\n",
       "</table>\n",
       "</div>"
      ],
      "text/plain": [
       "                                                 text  label\n",
       "2   tidak perlu larang ekspor cpo daya bulog toko ...      1\n",
       "3         minyak goreng tidak ada pasar ciampea bogor      1\n",
       "5                     minyak goreng belum lihat taban      1\n",
       "14                          biaya minyak goreng turun      1\n",
       "15  belum lagi daerah daerah pencil butuh minyak g...      1"
      ]
     },
     "execution_count": 64,
     "metadata": {},
     "output_type": "execute_result"
    }
   ],
   "source": [
    "df = data_label[data_label['label']== 1]\n",
    "df.head()"
   ]
  },
  {
   "cell_type": "code",
   "execution_count": 65,
   "id": "ef0fe3de",
   "metadata": {},
   "outputs": [],
   "source": [
    "#Import library untuk melakukan proses klasifikasi, validasi maupun evaluasi\n",
    "from time import time #untuk proses perhitungan waktu komputasi\n",
    "from sklearn.model_selection import GridSearchCV #untuk proses penyetelan parameter\n",
    "from sklearn.pipeline import Pipeline #untuk menampung beberapa tahapan untuk proses klasifikasi yang dimana pembelajaran \n",
    "#mesin dapat berjalan otomatis secara bersama berurutan bergantian tetapi dalam tahap berbeda.\n",
    "from sklearn.feature_extraction.text import TfidfVectorizer #untuk proses pembobotan kata dengan pemberian bobot nilai kepada \n",
    "#sebuah kata dengan melihat frekuensi relatif kemunculan kata dalam dokumen teks\n",
    "from sklearn.naive_bayes import BernoulliNB #untuk proses klasifikasi dalam algorirma Naive Bayes varian Bernoulli Naive Bayes\n",
    "from sklearn.svm import SVC #untuk proses klasifikasi dalam algoritma SVM\n",
    "from sklearn.neighbors import KNeighborsClassifier #untuk proses klasifikasi dalam algoritma K-NN\n",
    "from sklearn.model_selection import train_test_split #untuk proses pembagian data training maupun testing\n",
    "from sklearn.model_selection import KFold #Untuk proses KFoldValidation\n",
    "from sklearn.model_selection import cross_val_score #untuk proses validasi dengan nilai perulangan sesuai nilai K\n",
    "from sklearn import metrics \n",
    "from sklearn.metrics import classification_report #untuk proses menampilkan evaluasi\n",
    "from sklearn.metrics import accuracy_score #untuk proses menampilkan hasil akurasi dari proses model klasifikasi\n",
    "from sklearn.metrics import precision_recall_curve #untuk proses menampilkan hasil presisi dan recall dari proses model klasifikasi\n",
    "from sklearn.metrics import f1_score #untuk proses menampilkan hasil f1-score dari proses model klasifikasi\n",
    "from sklearn.metrics import roc_curve, auc #untuk proses menampilkan hasil Area Hitung di Bawah Kurva Karakteristik Operasi \n",
    "#Penerima (AUC ROC) dari skor prediksi."
   ]
  },
  {
   "cell_type": "code",
   "execution_count": 66,
   "id": "b9ef28c5",
   "metadata": {},
   "outputs": [],
   "source": [
    "#Proses untuk pembagian dataset training dan testing\n",
    "\n",
    "#Membangun One-dimensional array dan N-dimensional array dengan nilai random. \n",
    "#Gunakan fungsi np.random.randint(batas atas, size=dimensi array)\n",
    "\n",
    "#np.random.randint(low, high=None, size=None, dtype=int)\n",
    "#Fungsi untuk melakukan pengambilan sampel secara acak di numpy\n",
    "#Membuat variabel index yang berguna untuk menghilangkan index pada data\n",
    "idx = np.random.randint(0,1000,1000)\n",
    "\n",
    "#.loc = membaca baris berdasarkan index\n",
    "reduce_data = data_label.loc[idx] \n",
    "\"\"\"\n",
    "Membaca setiap baris data yang ada di dataframe data label berdasarkan hasil pengacakan pada variabel idx yang sudah melakukan \n",
    "pengambilan sampel secara acak, kemudian dari proses tersebut disimpan lagi di dalam dataframe reduce_data\n",
    "\"\"\"\n",
    "data_train,data_test=train_test_split(reduce_data,test_size = 0.5) \n",
    "\"\"\"\n",
    "Membagi data dengan menggunakan fungsi train_test_split yang dimana parameter masukan berisi dataframe\n",
    "reduce_data=data yang sudah dibaca perbarisnya, serta ukuran pembagian datanya, disini 0.5 artinya \n",
    "pembagian data menghasilkan data testing sebanyak 30% dan sisanya data training. Data tersebut akan \n",
    "disimpan ke dalam variabel data_train dan data_test yang dimana \n",
    "\"\"\"\n",
    "#Menetapkan isi dari variabel train dan test yang termasuk isi dari data training dan testing dalam bentuk list\n",
    "train = data_train[['text','label']].reset_index().drop('index',axis=1)\n",
    "test = data_test[['text','label']].reset_index().drop('index',axis=1)\n",
    "#Menggunakan fungsi drop () untuk mengambil semua data lainnya di index. Kemudian, dibagi datanya."
   ]
  },
  {
   "cell_type": "raw",
   "id": "bda3aeb6",
   "metadata": {},
   "source": [
    "Menyimpan hasil pembagian data training dan testing ke file format CSV dengan tanpa judul dan index\n"
   ]
  },
  {
   "cell_type": "code",
   "execution_count": 67,
   "id": "a7ea8445",
   "metadata": {},
   "outputs": [],
   "source": [
    "#Proses import data split yang sudah dipisahkan sebelumnya untuk diolah pada proses model klasifikasi\n",
    "header_list = [\"text\",\"label\"]\n",
    "train.to_csv('D:/data2023/traincoba5.csv', header=None, index=False)\n",
    "test.to_csv('D:/data2023/testcoba5.csv', header=None, index=False)\n"
   ]
  },
  {
   "cell_type": "code",
   "execution_count": 68,
   "id": "398b0335",
   "metadata": {},
   "outputs": [],
   "source": [
    "header_list = [\"text\",\"label\"]\n",
    "train = pd.read_csv('D:/data2023/traincoba1.csv',names=header_list)\n",
    "test = pd.read_csv('D:/data2023/testcoba1.csv', names=header_list)"
   ]
  },
  {
   "cell_type": "code",
   "execution_count": 69,
   "id": "c8cda2a6",
   "metadata": {},
   "outputs": [],
   "source": [
    "\"\"\"\n",
    "Proses mendefinisikan atau seleksi kolom yang menjadi prediktor maupun output ke dalam variabel X dan y dalam set pelatihan\n",
    "maupun pengujian yang dimana dari kedua variabel tersebut memiliki peran sebagai variabel independen dan dependen untuk proses\n",
    "klasifikasi\n",
    "\n",
    "Set pelatihan adalah bagian dari kumpulan data yang digunakan untuk melatih model. \n",
    "=>X_train adalah kumpulan data pelatihan. Variabel ini termasuk kedalam variabel independen.\n",
    "=>y_train adalah kumpulan label untuk semua data di X_train. Termasuk variabel dependen yang perlu diprediksi oleh model, \n",
    "seperti termasuk label kategori terhadap variabel independen yang ada, oleh karna itu perlu menentukan variabel dependen \n",
    "saat melatih / menyesuaikan model.\n",
    "\n",
    "Set pengujian adalah subset dari kumpulan data yang Anda gunakan untuk menguji model Anda setelah model melalui pemeriksaan\n",
    "awal oleh set validasi.\n",
    "=>X_test adalah kumpulan data pengujian. Variabel ini termasuk kedalam variabel independen. \n",
    "Variabel independen dari data yang tidak akan digunakan dalam tahap pelatihan dan akan digunakan untuk membuat prediksi \n",
    "guna menguji keakuratan model\n",
    "=>y_test adalah kumpulan label untuk semua data di X_test. Label ini akan digunakan untuk menguji akurasi antara kategori \n",
    "aktual dan prediksi\n",
    "\n",
    "\"\"\"\n",
    "X_train = train.text #data file train dengan kolom text\n",
    "y_train = train.label #data file train dengan kolom label\n",
    "X_test = test.text #data file test dengan kolom text\n",
    "y_test = test.label #data file text dengan kolom label"
   ]
  },
  {
   "cell_type": "code",
   "execution_count": 70,
   "id": "f9a258e1",
   "metadata": {},
   "outputs": [],
   "source": [
    "\"\"\"\n",
    "Tentukan pipeline yang berisi metode mana yang digunakan yang nantinya akan diproses untuk menjadi model terbaik dengan\n",
    "menggabungkan ekstraktor fitur teks dengan pengklasifikasi sederhana.\n",
    "\n",
    "Disini pipeline berisi estimator dari beberapa metode algoritma yang digunakan untuk menampung semua fitur ekstraksi maupun \n",
    "fitur dari metode algoritma yang akan di ujikan satu sama lain pada proses penyetelan dengan pendekatan GridSearchCV.\n",
    "\"\"\"\n",
    "text_clf_bnb = Pipeline([('tfidf', TfidfVectorizer()),\n",
    "                     ('clf', BernoulliNB())])\n",
    "\n",
    "\"\"\"\n",
    "Proses penyetelan menggunakan hyperparameter utama pada setiap metode algoritma. Banyak parameter yang dicoba akan memberikan\n",
    "daya penjelajahan yang lebih baik tetapi akan meningkatkan waktu pemrosesan dengan cara kombinatorial.\n",
    "\n",
    "Pada metode algoritma Naive Bayes varian BernoulliNB ini menggunakan pencarian nilai terbaik dari hyperparameter binarize\n",
    "dan alpha, kemudian untuk ekstraksi fitur kata menggunakan dari TFIDFVectorizer dengan pemilihan nilai hyperparameter\n",
    "ngram_range\n",
    "\"\"\"\n",
    "\n",
    "\"\"\"\n",
    "Pipeline ini dilakukan dengan cara memungkinkan pengaturan parameter dari berbagai langkah menggunakan nama mereka dan nama \n",
    "parameter yang dipisahkan dengan penulisan __ seperti pada contoh di bawah ini. Estimator langkah dapat diganti seluruhnya \n",
    "dengan mengatur parameter dengan namanya ke estimator lain.\n",
    "\"\"\"\n",
    "\n",
    "tuned_parameters_bnb = {\n",
    "    'tfidf__ngram_range': [(1, 1), (1, 2), (1, 3)],\n",
    "#    'clf__binarize' : [0.0,0,5,0.6,1.0,1.5],\n",
    "    'clf__alpha': [1, 1e-1, 1e-2, 1e-3, 1e-4]\n",
    "}"
   ]
  },
  {
   "cell_type": "markdown",
   "id": "372903bb",
   "metadata": {},
   "source": [
    "# Tahapan pengujian setiap nilai parameter untuk mencari mana yang terbaik, prosesnya terjadi di dalam Grid\n"
   ]
  },
  {
   "cell_type": "code",
   "execution_count": 71,
   "id": "afb69cf0",
   "metadata": {},
   "outputs": [
    {
     "name": "stdout",
     "output_type": "stream",
     "text": [
      "Hasil Score data test :  0.8275\n",
      "Hasil Score data test :  0.76\n",
      "Waktu Komputasi dari proses hyperparameter tuning di dalam Grid: 6.020s\n"
     ]
    }
   ],
   "source": [
    "t = time()\n",
    "\n",
    "\"\"\"\n",
    "Tahapan proses mencari nilai dari hyperparameter setiap algoritma menggunakan GridSearchCV untuk mendapatkan kombinasi parameter\n",
    "terbaik dengan gabungan fitur lainnya selain pengklasifikasian\n",
    "\"\"\"\n",
    "\n",
    "#Melakukan validasi sebanyak 10 kali untuk masing-masing nilai pada parameter alpha\n",
    "cv = KFold(n_splits=10, shuffle=True, random_state=1)\n",
    "\n",
    "#Membuat objek clf_bnb sebagai fungsi dari proses GridsearchCV\n",
    "clf_bnb = GridSearchCV(text_clf_bnb, tuned_parameters_bnb, scoring = 'accuracy', cv=cv, n_jobs = -1,return_train_score=True)\n",
    "\n",
    "#Sesuaikan dengan model/Masukkan ke model/Fit the model\n",
    "#Fitting model dimana model belajar untuk mencari hubungan antara X_train dan y_train \n",
    "clf_bnb.fit(X_train,y_train)\n",
    "\n",
    "print(\"Hasil Score data test : \", clf_bnb.score(X_train,y_train))\n",
    "print(\"Hasil Score data test : \", clf_bnb.score(X_test,y_test))\n",
    "\n",
    "training_time = time() - t\n",
    "print(\"Waktu Komputasi dari proses hyperparameter tuning di dalam Grid: %0.3fs\" % training_time)"
   ]
  },
  {
   "cell_type": "code",
   "execution_count": 72,
   "id": "ddbb18c7",
   "metadata": {},
   "outputs": [
    {
     "name": "stdout",
     "output_type": "stream",
     "text": [
      "Best parameters set found on development set:\n",
      "{'clf__alpha': 0.0001, 'tfidf__ngram_range': (1, 3)}\n",
      "Best Score: 0.7575\n",
      "\n",
      "\n",
      "Mean: 0.716250 Stdev:(0.045432) with: {'clf__alpha': 1, 'tfidf__ngram_range': (1, 1)}\n",
      "Mean: 0.735000 Stdev:(0.050249) with: {'clf__alpha': 1, 'tfidf__ngram_range': (1, 2)}\n",
      "Mean: 0.738750 Stdev:(0.052871) with: {'clf__alpha': 1, 'tfidf__ngram_range': (1, 3)}\n",
      "Mean: 0.743750 Stdev:(0.056803) with: {'clf__alpha': 0.1, 'tfidf__ngram_range': (1, 1)}\n",
      "Mean: 0.751250 Stdev:(0.054900) with: {'clf__alpha': 0.1, 'tfidf__ngram_range': (1, 2)}\n",
      "Mean: 0.752500 Stdev:(0.060156) with: {'clf__alpha': 0.1, 'tfidf__ngram_range': (1, 3)}\n",
      "Mean: 0.743750 Stdev:(0.052812) with: {'clf__alpha': 0.01, 'tfidf__ngram_range': (1, 1)}\n",
      "Mean: 0.751250 Stdev:(0.056582) with: {'clf__alpha': 0.01, 'tfidf__ngram_range': (1, 2)}\n",
      "Mean: 0.755000 Stdev:(0.058949) with: {'clf__alpha': 0.01, 'tfidf__ngram_range': (1, 3)}\n",
      "Mean: 0.743750 Stdev:(0.052812) with: {'clf__alpha': 0.001, 'tfidf__ngram_range': (1, 1)}\n",
      "Mean: 0.751250 Stdev:(0.056582) with: {'clf__alpha': 0.001, 'tfidf__ngram_range': (1, 2)}\n",
      "Mean: 0.755000 Stdev:(0.058949) with: {'clf__alpha': 0.001, 'tfidf__ngram_range': (1, 3)}\n",
      "Mean: 0.743750 Stdev:(0.052812) with: {'clf__alpha': 0.0001, 'tfidf__ngram_range': (1, 1)}\n",
      "Mean: 0.751250 Stdev:(0.056582) with: {'clf__alpha': 0.0001, 'tfidf__ngram_range': (1, 2)}\n",
      "Mean: 0.757500 Stdev:(0.059214) with: {'clf__alpha': 0.0001, 'tfidf__ngram_range': (1, 3)}\n"
     ]
    }
   ],
   "source": [
    "\"\"\"\n",
    "Proses menampilkan setiap kombinasi nilai hyperparameter dari proses pengujian sebelumnya, hal ini memudahkan untuk melihat \n",
    "setiap alur dari pencocokan berlangsung yang dimana hasil akhir berupa nilai terbaik dari kombinasi antar beberapa estimator\n",
    "(seperti pemilihan fitur) yang diujikan pada 1 set penyetelan dalam sistem pipeline.\n",
    "\"\"\"\n",
    "\n",
    "print(\"Best parameters set found on development set:\")\n",
    "print(clf_bnb.best_params_)\n",
    "print(\"Best Score:\", clf_bnb.best_score_)\n",
    "print('\\n')\n",
    "\n",
    "means = clf_bnb.cv_results_['mean_test_score'] #nilai rata rata akurasi\n",
    "stds = clf_bnb.cv_results_['std_test_score'] #nilai standar deviasi\n",
    "params = clf_bnb.cv_results_['params'] #nilai-nilai param yang sudah didefinisikan ke opsi pengujian sebelumnya (text_clf_bnb,\n",
    "#tuned_parameters_bnb yang dimana ditampilkan dalam bentuk berupa pencocokan secara satu-persatu\n",
    "\n",
    "#Proses perulangan untuk menampilkan nilai-nilai tersebut\n",
    "for mean, stdev, param in zip(means,stds,params):\n",
    "    print(\"Mean: %f Stdev:(%f) with: %r\" % (mean,stdev,param))"
   ]
  },
  {
   "cell_type": "code",
   "execution_count": 73,
   "id": "a80755cb",
   "metadata": {},
   "outputs": [
    {
     "data": {
      "text/html": [
       "<div>\n",
       "<style scoped>\n",
       "    .dataframe tbody tr th:only-of-type {\n",
       "        vertical-align: middle;\n",
       "    }\n",
       "\n",
       "    .dataframe tbody tr th {\n",
       "        vertical-align: top;\n",
       "    }\n",
       "\n",
       "    .dataframe thead th {\n",
       "        text-align: right;\n",
       "    }\n",
       "</style>\n",
       "<table border=\"1\" class=\"dataframe\">\n",
       "  <thead>\n",
       "    <tr style=\"text-align: right;\">\n",
       "      <th></th>\n",
       "      <th>clf__alpha</th>\n",
       "      <th>tfidf__ngram_range</th>\n",
       "      <th>test_score</th>\n",
       "      <th>train_score</th>\n",
       "    </tr>\n",
       "  </thead>\n",
       "  <tbody>\n",
       "    <tr>\n",
       "      <th>0</th>\n",
       "      <td>1.0000</td>\n",
       "      <td>(1, 1)</td>\n",
       "      <td>0.71625</td>\n",
       "      <td>0.800694</td>\n",
       "    </tr>\n",
       "    <tr>\n",
       "      <th>1</th>\n",
       "      <td>1.0000</td>\n",
       "      <td>(1, 2)</td>\n",
       "      <td>0.73500</td>\n",
       "      <td>0.807778</td>\n",
       "    </tr>\n",
       "    <tr>\n",
       "      <th>2</th>\n",
       "      <td>1.0000</td>\n",
       "      <td>(1, 3)</td>\n",
       "      <td>0.73875</td>\n",
       "      <td>0.816806</td>\n",
       "    </tr>\n",
       "    <tr>\n",
       "      <th>3</th>\n",
       "      <td>0.1000</td>\n",
       "      <td>(1, 1)</td>\n",
       "      <td>0.74375</td>\n",
       "      <td>0.810556</td>\n",
       "    </tr>\n",
       "    <tr>\n",
       "      <th>4</th>\n",
       "      <td>0.1000</td>\n",
       "      <td>(1, 2)</td>\n",
       "      <td>0.75125</td>\n",
       "      <td>0.817222</td>\n",
       "    </tr>\n",
       "    <tr>\n",
       "      <th>5</th>\n",
       "      <td>0.1000</td>\n",
       "      <td>(1, 3)</td>\n",
       "      <td>0.75250</td>\n",
       "      <td>0.825278</td>\n",
       "    </tr>\n",
       "    <tr>\n",
       "      <th>6</th>\n",
       "      <td>0.0100</td>\n",
       "      <td>(1, 1)</td>\n",
       "      <td>0.74375</td>\n",
       "      <td>0.810833</td>\n",
       "    </tr>\n",
       "    <tr>\n",
       "      <th>7</th>\n",
       "      <td>0.0100</td>\n",
       "      <td>(1, 2)</td>\n",
       "      <td>0.75125</td>\n",
       "      <td>0.818750</td>\n",
       "    </tr>\n",
       "    <tr>\n",
       "      <th>8</th>\n",
       "      <td>0.0100</td>\n",
       "      <td>(1, 3)</td>\n",
       "      <td>0.75500</td>\n",
       "      <td>0.826389</td>\n",
       "    </tr>\n",
       "    <tr>\n",
       "      <th>9</th>\n",
       "      <td>0.0010</td>\n",
       "      <td>(1, 1)</td>\n",
       "      <td>0.74375</td>\n",
       "      <td>0.810833</td>\n",
       "    </tr>\n",
       "    <tr>\n",
       "      <th>10</th>\n",
       "      <td>0.0010</td>\n",
       "      <td>(1, 2)</td>\n",
       "      <td>0.75125</td>\n",
       "      <td>0.818750</td>\n",
       "    </tr>\n",
       "    <tr>\n",
       "      <th>11</th>\n",
       "      <td>0.0010</td>\n",
       "      <td>(1, 3)</td>\n",
       "      <td>0.75500</td>\n",
       "      <td>0.827778</td>\n",
       "    </tr>\n",
       "    <tr>\n",
       "      <th>12</th>\n",
       "      <td>0.0001</td>\n",
       "      <td>(1, 1)</td>\n",
       "      <td>0.74375</td>\n",
       "      <td>0.810833</td>\n",
       "    </tr>\n",
       "    <tr>\n",
       "      <th>13</th>\n",
       "      <td>0.0001</td>\n",
       "      <td>(1, 2)</td>\n",
       "      <td>0.75125</td>\n",
       "      <td>0.818750</td>\n",
       "    </tr>\n",
       "    <tr>\n",
       "      <th>14</th>\n",
       "      <td>0.0001</td>\n",
       "      <td>(1, 3)</td>\n",
       "      <td>0.75750</td>\n",
       "      <td>0.828333</td>\n",
       "    </tr>\n",
       "  </tbody>\n",
       "</table>\n",
       "</div>"
      ],
      "text/plain": [
       "    clf__alpha tfidf__ngram_range  test_score  train_score\n",
       "0       1.0000             (1, 1)     0.71625     0.800694\n",
       "1       1.0000             (1, 2)     0.73500     0.807778\n",
       "2       1.0000             (1, 3)     0.73875     0.816806\n",
       "3       0.1000             (1, 1)     0.74375     0.810556\n",
       "4       0.1000             (1, 2)     0.75125     0.817222\n",
       "5       0.1000             (1, 3)     0.75250     0.825278\n",
       "6       0.0100             (1, 1)     0.74375     0.810833\n",
       "7       0.0100             (1, 2)     0.75125     0.818750\n",
       "8       0.0100             (1, 3)     0.75500     0.826389\n",
       "9       0.0010             (1, 1)     0.74375     0.810833\n",
       "10      0.0010             (1, 2)     0.75125     0.818750\n",
       "11      0.0010             (1, 3)     0.75500     0.827778\n",
       "12      0.0001             (1, 1)     0.74375     0.810833\n",
       "13      0.0001             (1, 2)     0.75125     0.818750\n",
       "14      0.0001             (1, 3)     0.75750     0.828333"
      ]
     },
     "execution_count": 73,
     "metadata": {},
     "output_type": "execute_result"
    }
   ],
   "source": [
    "\"\"\"\n",
    "Meringkas hasil dari GrisSearchCV\n",
    "Menampilkan hasil setiap pencocokan parameter dari proses GridSearchCV beserta nilai pelatihan dan pengujian dari setiap \n",
    "kombinasi dalam bentuk DataFrame yang isinya berupa pasangan kombinasi tiap hyperparameter yang diujikan.\n",
    "\"\"\"\n",
    "result_bnb = pd.DataFrame(clf_bnb.cv_results_['params'])\n",
    "result_bnb['test_score'] = clf_bnb.cv_results_['mean_test_score']\n",
    "result_bnb['train_score'] = clf_bnb.cv_results_['mean_train_score']\n",
    "result_bnb"
   ]
  },
  {
   "cell_type": "code",
   "execution_count": 74,
   "id": "69b0fb37",
   "metadata": {},
   "outputs": [
    {
     "data": {
      "text/plain": [
       "['clf_bnb.pkl']"
      ]
     },
     "execution_count": 74,
     "metadata": {},
     "output_type": "execute_result"
    }
   ],
   "source": [
    "import joblib\n",
    "final_model = clf_bnb.best_estimator_\n",
    "joblib.dump(final_model, \"clf_bnb.pkl\")"
   ]
  },
  {
   "cell_type": "markdown",
   "id": "9b0af901",
   "metadata": {},
   "source": [
    "--- Proses Hyperparameters Tuning Selesai ---"
   ]
  },
  {
   "cell_type": "markdown",
   "id": "2dc9517e",
   "metadata": {},
   "source": [
    "Proses Pemodelan BNB\n"
   ]
  },
  {
   "cell_type": "markdown",
   "id": "0a0d20b5",
   "metadata": {},
   "source": [
    "> Pipeline dapat digunakan untuk menghubungkan beberapa estimator menjadi satu. Ini berguna karena sering sekali ada urutan langkah yang tetap dalam memproses data, misalnya pemilihan fitur, normalisasi, dan klasifikasi."
   ]
  },
  {
   "cell_type": "markdown",
   "id": "077a8d38",
   "metadata": {},
   "source": [
    "-> Dalam pipeline ini pemilihan parameter dapat dilakukan bersama dengan pencarian grid atas parameter semua estimator dalam satu sistem pipeline sekaligus. Sistem ini dibuat menggunakan daftar pasangan (key, value), di mana kuncinya adalah string yang berisi nama yang ingin diberikan dan nilainya adalah objek penaksir yang berisi nilai parameter di dalamnya.\n",
    "\n"
   ]
  },
  {
   "cell_type": "code",
   "execution_count": 75,
   "id": "d72f8d47",
   "metadata": {},
   "outputs": [
    {
     "name": "stdout",
     "output_type": "stream",
     "text": [
      "train time: 0.028s\n",
      "================================\n",
      "Hasil Score data train :  0.815\n",
      "Hasil Score data test :  0.755\n"
     ]
    }
   ],
   "source": [
    "t = time()\n",
    "\n",
    "#Proses melatih model\n",
    "#Mengaktifkan/memanggil/membuat fungsi klasifikasi Bernoulli Naive Bayes dengan pemilihan fitur yang akan digunakan\n",
    "#Dalam proses ini hasil nilai setiap parameter didapat dari proses sebelumnya setelah melakukan proses pencocokan atau\n",
    "#kombinasi, yaitu proses hyperparameter tuning. \n",
    "bnb = Pipeline([('tfidf', TfidfVectorizer(ngram_range=(1,2))),\n",
    "                ('clf', BernoulliNB(alpha=0.1))])\n",
    "\n",
    "\"\"\"\n",
    "Sesuaikan dengan model/Masukkan ke model/Fit the model. Memasukkan data training pada fungsi klasifikasi BNB.\n",
    "Masukan dalam bentuk parameter yang berisi X_train (kumpulan data pelatihan yang bersifat independen), y_train (kumpulan label \n",
    "untuk semua data di X_train yang bersifat dependen yang perlu diprediksi oleh model)\n",
    "\n",
    "Cocokkan semua transformasi satu demi satu dan transformasikan data, kemudian set data yang ditransformasi menggunakan \n",
    "estimator akhir.\n",
    "\"\"\"\n",
    "# Fitting model dimana model belajar untuk mencari hubungan antara X_train dan y_train \n",
    "bnb.fit(X_train,y_train)\n",
    "\n",
    "#Untuk set waktu selama proses training sedang berjalan\n",
    "training_time = time() - t\n",
    "print(\"train time: %0.3fs\" % training_time)\n",
    "\n",
    "print(\"================================\")\n",
    "print(\"Hasil Score data train : \", bnb.score(X_train,y_train))\n",
    "print(\"Hasil Score data test : \", bnb.score(X_test,y_test))"
   ]
  },
  {
   "cell_type": "code",
   "execution_count": 76,
   "id": "d08ee913",
   "metadata": {},
   "outputs": [
    {
     "name": "stdout",
     "output_type": "stream",
     "text": [
      "cross validation score [0.6875 0.775  0.6875 0.85   0.825  0.7    0.7125 0.7625 0.7875 0.725 ]\n",
      "Average cross-validation Mean Score : 0.7512\n",
      "Average cross-validation Std Score : 0.0549\n"
     ]
    }
   ],
   "source": [
    "\"\"\"\n",
    "Set validasi adalah subset dari kumpulan data (terpisah dari set pelatihan) yang Anda gunakan untuk menyesuaikan \n",
    "hyperparameter.\n",
    "\n",
    "Proses pelatihan model/Training the model dengan menggunakan nilai validasi sebanyak 10 pembagian data yang bekerja secara acak\n",
    "dengan membagi 10 bagian secara rata dengan jumlah data yang sama. Selanjutnya dilakukan proses silang, dimana data training \n",
    "dijadikan data testing dan sebaliknya, proses ini diulang sebanyak 10 kali pada training set yang berbeda. \n",
    "\n",
    "Rata-rata perkiraan nilai dari 10-fold cross validation digunakan untuk menghasilkan perkiraan keseluruhan. \n",
    "\n",
    "\"\"\"\n",
    "\n",
    "\"\"\"\n",
    "Setelah tahapan melatih model, langkah selanjutnya adalah hasil pelatihan model tersebut di evaluasi untuk melihat seberapa \n",
    "bagus kinerja dari model tersebut dengan memvalidasi terlebih dahulu kemudian dilakukan proses testing menggunakan data testing \n",
    "yang sudah disediakan sebelumnya.\n",
    "\"\"\"\n",
    "#Melakukan validasi sebanyak 10 kali\n",
    "cv = KFold(n_splits=10, shuffle=True, random_state=1)\n",
    "accuracy = cross_val_score(bnb, X_train, y_train, scoring = 'accuracy', cv=cv)\n",
    "print('cross validation score', accuracy)\n",
    "\n",
    "#Menghitung rata-rata nilai validasi silang\n",
    "print('Average cross-validation Mean Score : {:.4f}'.format(accuracy.mean()))\n",
    "\n",
    "#Menghitung rata-rata standar deviasi nilai validasi silang\n",
    "print('Average cross-validation Std Score : {:.4f}'.format(accuracy.std()))"
   ]
  },
  {
   "cell_type": "code",
   "execution_count": 77,
   "id": "fda55e6b",
   "metadata": {},
   "outputs": [
    {
     "data": {
      "image/png": "[encoded data removed]",
      "text/plain": [
       "<Figure size 432x288 with 1 Axes>"
      ]
     },
     "metadata": {
      "needs_background": "light"
     },
     "output_type": "display_data"
    },
    {
     "data": {
      "text/plain": [
       "<AxesSubplot:title={'center':'Learning Curve for BernoulliNB'}, xlabel='Training Instances', ylabel='Score'>"
      ]
     },
     "execution_count": 77,
     "metadata": {},
     "output_type": "execute_result"
    }
   ],
   "source": [
    "from yellowbrick.model_selection import LearningCurve\n",
    "\n",
    "#Buat contoh model pengelompokan dan visualizer\n",
    "visualizer = LearningCurve(bnb, scoring=\"accuracy\")\n",
    "\n",
    "visualizer.fit(X_train, y_train) #Masukkan data ke visualisator\n",
    "visualizer.show() #Tampilkan gambar"
   ]
  },
  {
   "cell_type": "code",
   "execution_count": 78,
   "id": "a78b40fc",
   "metadata": {},
   "outputs": [
    {
     "data": {
      "image/png": "[encoded data removed]",
      "text/plain": [
       "<Figure size 432x288 with 1 Axes>"
      ]
     },
     "metadata": {
      "needs_background": "light"
     },
     "output_type": "display_data"
    },
    {
     "data": {
      "text/plain": [
       "<AxesSubplot:title={'center':'Cross Validation Scores for BernoulliNB'}, xlabel='Training Instances', ylabel='Score'>"
      ]
     },
     "execution_count": 78,
     "metadata": {},
     "output_type": "execute_result"
    }
   ],
   "source": [
    "#Visualisasi untuk nilai setiap literasi dalam proses Validasi Silang di algoritma BNB\n",
    "#!pip install yellowbrick\n",
    "from yellowbrick.model_selection import CVScores\n",
    "import warnings\n",
    "\n",
    "warnings.filterwarnings('ignore')\n",
    "\n",
    "cv = KFold(n_splits=10, shuffle=True, random_state=1)\n",
    "visualizer = CVScores(bnb, cv=cv, scoring='accuracy',color=\"#ad5389\")\n",
    "\n",
    "visualizer.fit(X_train,y_train)\n",
    "visualizer.show()"
   ]
  },
  {
   "cell_type": "code",
   "execution_count": 79,
   "id": "52cde6aa",
   "metadata": {},
   "outputs": [
    {
     "name": "stdout",
     "output_type": "stream",
     "text": [
      "test time:  0.000s\n",
      "========================\n",
      "              precision    recall  f1-score   support\n",
      "\n",
      "           0       0.79      0.84      0.81       127\n",
      "           1       0.69      0.60      0.64        73\n",
      "\n",
      "    accuracy                           0.76       200\n",
      "   macro avg       0.74      0.72      0.73       200\n",
      "weighted avg       0.75      0.76      0.75       200\n",
      "\n",
      "\n",
      "\n",
      "Accuracy Score - Bernoulli NB: 0.755\n"
     ]
    }
   ],
   "source": [
    "\"\"\"\n",
    "Perhitungan nilai evaluasi dihasilkan setelah proses validasi, yang dimana dari proses pelatihan, divalidasi dengan data \n",
    "testing yang sudah disiapkan kemudian menghasilkan nilai evaluasi seperti classification report atau metrik performa akurasi, \n",
    "presisi, recall, f1-score\n",
    "\"\"\"\n",
    "\n",
    "#Waktu komputasi untuk testing data\n",
    "t = time()\n",
    "test_time = time() - t\n",
    "\n",
    "print(\"test time:  %0.3fs\" % test_time)\n",
    "print(\"========================\")\n",
    "\n",
    "#Menentukan hasil prediksi dari X_test\n",
    "#get predictions from model\n",
    "y_pred_bnb = bnb.predict(X_test)\n",
    "\n",
    "\"\"\"\n",
    "Setelah proses klasifikasi selesai, diperlukan adanya evaluasi untuk menentukan kualitas metode yang telah berhasil dibuat pada \n",
    "tahap sebelumnya. Pada tahap evaluasi ini metrik performa accuracy, precision, recall, dan F1-Score akan digunakan untuk menguji \n",
    "kinerja proses klasifikasi yang ditampilkan melalui function classification_report dimana berisi parameter masukan yaitu y_test\n",
    "(kumpulan label dari semua data di X_test;data pengujian) dan y_pred_bnb (proses prediksi kumpulan data pengujian (X_test) yang\n",
    "bersifat variabel independen)\n",
    "\"\"\"\n",
    "# Classify and report the results\n",
    "print(classification_report(y_test, y_pred_bnb))\n",
    "print('\\n')\n",
    "\n",
    "#print('BEST BERNOULLI NAIVE BAYES MODEL')\n",
    "print('Accuracy Score - Bernoulli NB:', metrics.accuracy_score(y_test, y_pred_bnb)) "
   ]
  },
  {
   "cell_type": "code",
   "execution_count": 80,
   "id": "e05631d1",
   "metadata": {},
   "outputs": [
    {
     "data": {
      "image/png": "[encoded data removed]",
      "text/plain": [
       "<Figure size 432x288 with 2 Axes>"
      ]
     },
     "metadata": {
      "needs_background": "light"
     },
     "output_type": "display_data"
    },
    {
     "data": {
      "text/plain": [
       "<AxesSubplot:title={'center':'BernoulliNB Classification Report'}>"
      ]
     },
     "execution_count": 80,
     "metadata": {},
     "output_type": "execute_result"
    }
   ],
   "source": [
    "#Library untuk menampilkan laporan evaluasi model klasifikasi dalam bentuk visualisasi agar lebih mudah dipahami\n",
    "from yellowbrick.classifier import ClassificationReport\n",
    "\n",
    "#Buat contoh model pengelompokan dan visualizer\n",
    "visualizer = ClassificationReport(bnb,support=True,cmap='RdPu')\n",
    "\n",
    "visualizer.fit(X_train, y_train)  #Sesuaikan visualisator dan modelnya\n",
    "visualizer.score(X_test, y_test)  #Evaluasi model pada data pengujian\n",
    "visualizer.show()"
   ]
  },
  {
   "cell_type": "code",
   "execution_count": 81,
   "id": "22dd171b",
   "metadata": {},
   "outputs": [
    {
     "data": {
      "text/html": [
       "<div>\n",
       "<style scoped>\n",
       "    .dataframe tbody tr th:only-of-type {\n",
       "        vertical-align: middle;\n",
       "    }\n",
       "\n",
       "    .dataframe tbody tr th {\n",
       "        vertical-align: top;\n",
       "    }\n",
       "\n",
       "    .dataframe thead th {\n",
       "        text-align: right;\n",
       "    }\n",
       "</style>\n",
       "<table border=\"1\" class=\"dataframe\">\n",
       "  <thead>\n",
       "    <tr style=\"text-align: right;\">\n",
       "      <th></th>\n",
       "      <th>negatif</th>\n",
       "      <th>positif</th>\n",
       "      <th>accuracy</th>\n",
       "      <th>macro avg</th>\n",
       "      <th>weighted avg</th>\n",
       "    </tr>\n",
       "  </thead>\n",
       "  <tbody>\n",
       "    <tr>\n",
       "      <th>precision</th>\n",
       "      <td>0.786765</td>\n",
       "      <td>0.687500</td>\n",
       "      <td>0.755</td>\n",
       "      <td>0.737132</td>\n",
       "      <td>0.750533</td>\n",
       "    </tr>\n",
       "    <tr>\n",
       "      <th>recall</th>\n",
       "      <td>0.842520</td>\n",
       "      <td>0.602740</td>\n",
       "      <td>0.755</td>\n",
       "      <td>0.722630</td>\n",
       "      <td>0.755000</td>\n",
       "    </tr>\n",
       "    <tr>\n",
       "      <th>f1-score</th>\n",
       "      <td>0.813688</td>\n",
       "      <td>0.642336</td>\n",
       "      <td>0.755</td>\n",
       "      <td>0.728012</td>\n",
       "      <td>0.751145</td>\n",
       "    </tr>\n",
       "    <tr>\n",
       "      <th>support</th>\n",
       "      <td>127.000000</td>\n",
       "      <td>73.000000</td>\n",
       "      <td>0.755</td>\n",
       "      <td>200.000000</td>\n",
       "      <td>200.000000</td>\n",
       "    </tr>\n",
       "  </tbody>\n",
       "</table>\n",
       "</div>"
      ],
      "text/plain": [
       "              negatif    positif  accuracy   macro avg  weighted avg\n",
       "precision    0.786765   0.687500     0.755    0.737132      0.750533\n",
       "recall       0.842520   0.602740     0.755    0.722630      0.755000\n",
       "f1-score     0.813688   0.642336     0.755    0.728012      0.751145\n",
       "support    127.000000  73.000000     0.755  200.000000    200.000000"
      ]
     },
     "metadata": {},
     "output_type": "display_data"
    },
    {
     "data": {
      "image/png": "[encoded data removed]",
      "text/plain": [
       "<Figure size 720x576 with 1 Axes>"
      ]
     },
     "metadata": {
      "needs_background": "light"
     },
     "output_type": "display_data"
    }
   ],
   "source": [
    "#Import library untuk visualisasi gambar\n",
    "import matplotlib.pyplot as plt\n",
    "\n",
    "\"\"\"\n",
    "Variabel ini digunakan untuk menampung nama label yang digunakan dalam kolom untuk confusion matrix dan berfungsi sebagai tanda\n",
    "label di bagian visualisasi dari classification report\n",
    "\"\"\"\n",
    "target_labels = ['negatif', 'positif']\n",
    "\n",
    "#store the classification report as a dictionary\n",
    "cr_dict = classification_report(y_test, y_pred_bnb, target_names=target_labels, output_dict=True)\n",
    "\n",
    "#convert the classification report dictionary into a data frame\n",
    "cr_data = pd.DataFrame(cr_dict)\n",
    "display(cr_data)\n",
    "\n",
    "#plot the classification report scores\n",
    "ax=cr_data.iloc[:-1, :2].plot.bar(figsize=(10,8),color=['#d9534f','#5bc0de'])\n",
    "plt.title(\"BNB Classification Report\")\n",
    "plt.xlabel('Metrics', labelpad=20)\n",
    "\n",
    "#fix the x-ticktek mark rotation\n",
    "plt.xticks(rotation=0)\n",
    "\n",
    "#create custom y-tick marks and labels for percentage representation\n",
    "#create an array of even tick marks from 0 to 1\n",
    "percent_ticks = np.linspace(0,1,11, endpoint=True)\n",
    "\n",
    "#create a list of strings representing the percentage at each tick\n",
    "percent_labels = [f'{int(t*100)}%' for t in percent_ticks]\n",
    "plt.yticks(ticks=percent_ticks,labels=percent_labels)\n",
    "plt.ylabel('Percentage (%)')\n",
    "plt.margins(0.2,0.2)\n",
    "\n",
    "for p in ax.patches:\n",
    "    ax.annotate(\n",
    "        \"{}%\".format(str(np.round(p.get_height()*100, 2))),\n",
    "        xy=(p.get_x()*1+p.get_width()/2, p.get_height()*1.02),\n",
    "        ha='center',\n",
    "    )"
   ]
  },
  {
   "cell_type": "code",
   "execution_count": 82,
   "id": "f91cf936",
   "metadata": {},
   "outputs": [
    {
     "name": "stdout",
     "output_type": "stream",
     "text": [
      "[[107  20]\n",
      " [ 29  44]]\n"
     ]
    }
   ],
   "source": [
    "from sklearn.metrics import confusion_matrix\n",
    "cm_bnb = confusion_matrix(y_test, y_pred_bnb)\n",
    "print(cm_bnb)"
   ]
  },
  {
   "cell_type": "code",
   "execution_count": 83,
   "id": "998fa816",
   "metadata": {},
   "outputs": [],
   "source": [
    "\n",
    "\"\"\"\n",
    "\n",
    "\"\"\"\n",
    "#Fungsi untuk menghitung metrik performa sensitivity dan specificity dalam proses klasifikasi\n",
    "def calculate_sensitivity_specificity(y_test, y_pred_test):\n",
    "    # Note: More parameters are defined than necessary. \n",
    "    # This would allow return of other measures other than sensitivity and specificity\n",
    "    \n",
    "    # Get true/false for whether a breach actually occurred\n",
    "    actual_pos = y_test == 1\n",
    "    actual_neg = y_test == 0\n",
    "    \n",
    "    # Get true and false test (true test match actual, false tests differ from actual)\n",
    "    true_pos = (y_pred_bnb == 1) & (actual_pos)\n",
    "    false_pos = (y_pred_bnb == 1) & (actual_neg)\n",
    "    true_neg = (y_pred_bnb == 0) & (actual_neg)\n",
    "    false_neg = (y_pred_bnb == 0) & (actual_pos)\n",
    "    \n",
    "    # Calculate accuracy\n",
    "    accuracy_bnb = np.mean(y_pred_test == y_test)\n",
    "    \n",
    "    # Calculate sensitivity and specificity\n",
    "    sensitivity_bnb = np.sum(true_pos) / np.sum(actual_pos)\n",
    "    specificity_bnb = np.sum(true_neg) / np.sum(actual_neg)\n",
    "    \n",
    "    return sensitivity_bnb, specificity_bnb, accuracy_bnb"
   ]
  },
  {
   "cell_type": "code",
   "execution_count": 84,
   "id": "2a98e6d8",
   "metadata": {},
   "outputs": [
    {
     "name": "stdout",
     "output_type": "stream",
     "text": [
      "Sensitivity: 0.6027397260273972\n",
      "Specificity: 0.84251968503937\n",
      "Accuracy: 0.755\n"
     ]
    }
   ],
   "source": [
    "#Proses perhitungan dengan memanggil fungsi sebelumnya\n",
    "sensitivity_bnb, specificity_bnb, accuracy_bnb = calculate_sensitivity_specificity(y_test, y_pred_bnb)\n",
    "print ('Sensitivity:', sensitivity_bnb)\n",
    "print ('Specificity:', specificity_bnb)\n",
    "print ('Accuracy:', accuracy_bnb)"
   ]
  },
  {
   "cell_type": "code",
   "execution_count": 85,
   "id": "1c36fa0b",
   "metadata": {},
   "outputs": [
    {
     "data": {
      "text/plain": [
       "<AxesSubplot:>"
      ]
     },
     "execution_count": 85,
     "metadata": {},
     "output_type": "execute_result"
    },
    {
     "data": {
      "image/png": "[encoded data removed]",
      "text/plain": [
       "<Figure size 432x288 with 2 Axes>"
      ]
     },
     "metadata": {
      "needs_background": "light"
     },
     "output_type": "display_data"
    }
   ],
   "source": [
    "#Visualisasi Confusion Matrix dari model klasifikasi BNB\n",
    "import seaborn as sns\n",
    "\n",
    "group_names = ['True Neg','False Pos','False Neg','True Pos']\n",
    "group_counts = [\"{0:0.0f}\".format(value) for value in\n",
    "                cm_bnb.flatten()]\n",
    "group_percentages = [\"{0:.2%}\".format(value) for value in\n",
    "                     cm_bnb.flatten()/np.sum(cm_bnb)]\n",
    "labels = [f\"{v1}\\n{v2}\\n{v3}\" for v1, v2, v3 in\n",
    "          zip(group_names,group_counts,group_percentages)]\n",
    "labels = np.asarray(labels).reshape(2,2)\n",
    "sns.heatmap(cm_bnb, annot=labels, fmt='', cmap='Purples')"
   ]
  },
  {
   "cell_type": "code",
   "execution_count": 86,
   "id": "1af62017",
   "metadata": {},
   "outputs": [
    {
     "data": {
      "text/plain": [
       "0.7226297055333837"
      ]
     },
     "execution_count": 86,
     "metadata": {},
     "output_type": "execute_result"
    }
   ],
   "source": [
    "#auc dan roc turunan dari precision\n",
    "auc_roc_bnb=metrics.roc_auc_score(y_test,y_pred_bnb)\n",
    "auc_roc_bnb"
   ]
  },
  {
   "cell_type": "code",
   "execution_count": 87,
   "id": "11709bdd",
   "metadata": {},
   "outputs": [
    {
     "data": {
      "text/plain": [
       "0.7226297055333837"
      ]
     },
     "execution_count": 87,
     "metadata": {},
     "output_type": "execute_result"
    }
   ],
   "source": [
    "false_positive_rate, true_positive_rate, thresholds = roc_curve(y_test, y_pred_bnb)\n",
    "roc_auc_bnb = auc(false_positive_rate, true_positive_rate)\n",
    "roc_auc_bnb"
   ]
  },
  {
   "cell_type": "code",
   "execution_count": 88,
   "id": "c0f1a1bb",
   "metadata": {},
   "outputs": [
    {
     "data": {
      "text/plain": [
       "Text(0.5, 0, 'False Positive Rate')"
      ]
     },
     "execution_count": 88,
     "metadata": {},
     "output_type": "execute_result"
    },
    {
     "data": {
      "image/png": "[encoded data removed]",
      "text/plain": [
       "<Figure size 720x720 with 1 Axes>"
      ]
     },
     "metadata": {
      "needs_background": "light"
     },
     "output_type": "display_data"
    }
   ],
   "source": [
    "#Visualisasi Kurva ROC dan AUC\n",
    "import matplotlib.pyplot as plt\n",
    "plt.figure(figsize=(10,10))\n",
    "plt.title('Receiver Operating Characteristic BNB Algorithm')\n",
    "plt.plot(false_positive_rate,true_positive_rate, color='purple',label = 'AUC = %0.2f' % roc_auc_bnb)\n",
    "plt.legend(loc = 'lower right')\n",
    "plt.plot([0, 1], [0, 1],linestyle='--')\n",
    "plt.axis('tight')\n",
    "plt.ylabel('True Positive Rate')\n",
    "plt.xlabel('False Positive Rate')"
   ]
  },
  {
   "cell_type": "markdown",
   "id": "7da405df",
   "metadata": {},
   "source": [
    "# KNN"
   ]
  },
  {
   "cell_type": "code",
   "execution_count": 89,
   "id": "386d33cc",
   "metadata": {},
   "outputs": [],
   "source": [
    "text_clf_knn = Pipeline([('tfidf', TfidfVectorizer()),\n",
    "                     ('clf', KNeighborsClassifier())])\n",
    "\n",
    "tuned_parameters_knn = {\n",
    "    'tfidf__ngram_range': [(1, 1), (1, 2), (1, 3)],\n",
    "#   'tfidf__use_idf': (True, False),\n",
    "#   'tfidf__norm': ('l1', 'l2'),\n",
    "#   'tfidf__smooth_idf': (True, False),\n",
    "#   'tfidf__sublinear_tf': (True, False),\n",
    "    'clf__n_neighbors' : [3,4,5,7,8,9,10],\n",
    "#     n = 9\n",
    "#   'clf__leaf_size' : np.arange(1,41,8),\n",
    "#     'clf__p' : [2,3,4,6],\n",
    "    'clf__weights' :  ['uniform', 'distance'],\n",
    "    'clf__metric' : ['minkowski', 'chebyshev','euclidean','manhattan'],\n",
    "#     'clf__n_jobs' : [1, -1]\n",
    "}"
   ]
  },
  {
   "cell_type": "code",
   "execution_count": 90,
   "id": "0c662cc1",
   "metadata": {},
   "outputs": [
    {
     "name": "stdout",
     "output_type": "stream",
     "text": [
      "train time: 44.592s\n"
     ]
    }
   ],
   "source": [
    "t = time()\n",
    "#Training the model\n",
    "cv = KFold(n_splits=10, shuffle=True, random_state=1)\n",
    "clf_knn = GridSearchCV(text_clf_knn, tuned_parameters_knn, scoring = 'accuracy',cv=cv, n_jobs = -1, return_train_score=True)\n",
    "\n",
    "#Fit the model\n",
    "clf_knn.fit(X_train,y_train)\n",
    "\n",
    "\n",
    "training_time = time() - t\n",
    "\n",
    "print(\"train time: %0.3fs\" % training_time)"
   ]
  },
  {
   "cell_type": "markdown",
   "id": "7b12076f",
   "metadata": {},
   "source": [
    "# pengujian setiap algoritma\n"
   ]
  },
  {
   "cell_type": "code",
   "execution_count": 91,
   "id": "3ba933c7",
   "metadata": {},
   "outputs": [
    {
     "name": "stdout",
     "output_type": "stream",
     "text": [
      "Best parameters set found on development set:\n",
      "{'clf__metric': 'minkowski', 'clf__n_neighbors': 10, 'clf__weights': 'distance', 'tfidf__ngram_range': (1, 1)}\n",
      "Best Score: 0.8049999999999999\n",
      "\n",
      "\n",
      "Mean: 0.757500 Stdev:(0.057064) with: {'clf__metric': 'minkowski', 'clf__n_neighbors': 3, 'clf__weights': 'uniform', 'tfidf__ngram_range': (1, 1)}\n",
      "Mean: 0.755000 Stdev:(0.055114) with: {'clf__metric': 'minkowski', 'clf__n_neighbors': 3, 'clf__weights': 'uniform', 'tfidf__ngram_range': (1, 2)}\n",
      "Mean: 0.747500 Stdev:(0.056954) with: {'clf__metric': 'minkowski', 'clf__n_neighbors': 3, 'clf__weights': 'uniform', 'tfidf__ngram_range': (1, 3)}\n",
      "Mean: 0.761250 Stdev:(0.055748) with: {'clf__metric': 'minkowski', 'clf__n_neighbors': 3, 'clf__weights': 'distance', 'tfidf__ngram_range': (1, 1)}\n",
      "Mean: 0.761250 Stdev:(0.055467) with: {'clf__metric': 'minkowski', 'clf__n_neighbors': 3, 'clf__weights': 'distance', 'tfidf__ngram_range': (1, 2)}\n",
      "Mean: 0.755000 Stdev:(0.058949) with: {'clf__metric': 'minkowski', 'clf__n_neighbors': 3, 'clf__weights': 'distance', 'tfidf__ngram_range': (1, 3)}\n",
      "Mean: 0.755000 Stdev:(0.046503) with: {'clf__metric': 'minkowski', 'clf__n_neighbors': 4, 'clf__weights': 'uniform', 'tfidf__ngram_range': (1, 1)}\n",
      "Mean: 0.767500 Stdev:(0.047500) with: {'clf__metric': 'minkowski', 'clf__n_neighbors': 4, 'clf__weights': 'uniform', 'tfidf__ngram_range': (1, 2)}\n",
      "Mean: 0.760000 Stdev:(0.071764) with: {'clf__metric': 'minkowski', 'clf__n_neighbors': 4, 'clf__weights': 'uniform', 'tfidf__ngram_range': (1, 3)}\n",
      "Mean: 0.762500 Stdev:(0.043661) with: {'clf__metric': 'minkowski', 'clf__n_neighbors': 4, 'clf__weights': 'distance', 'tfidf__ngram_range': (1, 1)}\n",
      "Mean: 0.780000 Stdev:(0.043732) with: {'clf__metric': 'minkowski', 'clf__n_neighbors': 4, 'clf__weights': 'distance', 'tfidf__ngram_range': (1, 2)}\n",
      "Mean: 0.772500 Stdev:(0.067035) with: {'clf__metric': 'minkowski', 'clf__n_neighbors': 4, 'clf__weights': 'distance', 'tfidf__ngram_range': (1, 3)}\n",
      "Mean: 0.750000 Stdev:(0.048734) with: {'clf__metric': 'minkowski', 'clf__n_neighbors': 5, 'clf__weights': 'uniform', 'tfidf__ngram_range': (1, 1)}\n",
      "Mean: 0.760000 Stdev:(0.052974) with: {'clf__metric': 'minkowski', 'clf__n_neighbors': 5, 'clf__weights': 'uniform', 'tfidf__ngram_range': (1, 2)}\n",
      "Mean: 0.753750 Stdev:(0.060221) with: {'clf__metric': 'minkowski', 'clf__n_neighbors': 5, 'clf__weights': 'uniform', 'tfidf__ngram_range': (1, 3)}\n",
      "Mean: 0.767500 Stdev:(0.043732) with: {'clf__metric': 'minkowski', 'clf__n_neighbors': 5, 'clf__weights': 'distance', 'tfidf__ngram_range': (1, 1)}\n",
      "Mean: 0.786250 Stdev:(0.048878) with: {'clf__metric': 'minkowski', 'clf__n_neighbors': 5, 'clf__weights': 'distance', 'tfidf__ngram_range': (1, 2)}\n",
      "Mean: 0.776250 Stdev:(0.054328) with: {'clf__metric': 'minkowski', 'clf__n_neighbors': 5, 'clf__weights': 'distance', 'tfidf__ngram_range': (1, 3)}\n",
      "Mean: 0.750000 Stdev:(0.074791) with: {'clf__metric': 'minkowski', 'clf__n_neighbors': 7, 'clf__weights': 'uniform', 'tfidf__ngram_range': (1, 1)}\n",
      "Mean: 0.761250 Stdev:(0.063110) with: {'clf__metric': 'minkowski', 'clf__n_neighbors': 7, 'clf__weights': 'uniform', 'tfidf__ngram_range': (1, 2)}\n",
      "Mean: 0.746250 Stdev:(0.080632) with: {'clf__metric': 'minkowski', 'clf__n_neighbors': 7, 'clf__weights': 'uniform', 'tfidf__ngram_range': (1, 3)}\n",
      "Mean: 0.782500 Stdev:(0.052500) with: {'clf__metric': 'minkowski', 'clf__n_neighbors': 7, 'clf__weights': 'distance', 'tfidf__ngram_range': (1, 1)}\n",
      "Mean: 0.796250 Stdev:(0.045087) with: {'clf__metric': 'minkowski', 'clf__n_neighbors': 7, 'clf__weights': 'distance', 'tfidf__ngram_range': (1, 2)}\n",
      "Mean: 0.786250 Stdev:(0.059280) with: {'clf__metric': 'minkowski', 'clf__n_neighbors': 7, 'clf__weights': 'distance', 'tfidf__ngram_range': (1, 3)}\n",
      "Mean: 0.741250 Stdev:(0.078671) with: {'clf__metric': 'minkowski', 'clf__n_neighbors': 8, 'clf__weights': 'uniform', 'tfidf__ngram_range': (1, 1)}\n",
      "Mean: 0.738750 Stdev:(0.085413) with: {'clf__metric': 'minkowski', 'clf__n_neighbors': 8, 'clf__weights': 'uniform', 'tfidf__ngram_range': (1, 2)}\n",
      "Mean: 0.712500 Stdev:(0.090657) with: {'clf__metric': 'minkowski', 'clf__n_neighbors': 8, 'clf__weights': 'uniform', 'tfidf__ngram_range': (1, 3)}\n",
      "Mean: 0.798750 Stdev:(0.058216) with: {'clf__metric': 'minkowski', 'clf__n_neighbors': 8, 'clf__weights': 'distance', 'tfidf__ngram_range': (1, 1)}\n",
      "Mean: 0.798750 Stdev:(0.048878) with: {'clf__metric': 'minkowski', 'clf__n_neighbors': 8, 'clf__weights': 'distance', 'tfidf__ngram_range': (1, 2)}\n",
      "Mean: 0.786250 Stdev:(0.066250) with: {'clf__metric': 'minkowski', 'clf__n_neighbors': 8, 'clf__weights': 'distance', 'tfidf__ngram_range': (1, 3)}\n",
      "Mean: 0.721250 Stdev:(0.072898) with: {'clf__metric': 'minkowski', 'clf__n_neighbors': 9, 'clf__weights': 'uniform', 'tfidf__ngram_range': (1, 1)}\n",
      "Mean: 0.726250 Stdev:(0.085046) with: {'clf__metric': 'minkowski', 'clf__n_neighbors': 9, 'clf__weights': 'uniform', 'tfidf__ngram_range': (1, 2)}\n",
      "Mean: 0.715000 Stdev:(0.087464) with: {'clf__metric': 'minkowski', 'clf__n_neighbors': 9, 'clf__weights': 'uniform', 'tfidf__ngram_range': (1, 3)}\n",
      "Mean: 0.791250 Stdev:(0.058108) with: {'clf__metric': 'minkowski', 'clf__n_neighbors': 9, 'clf__weights': 'distance', 'tfidf__ngram_range': (1, 1)}\n",
      "Mean: 0.795000 Stdev:(0.058417) with: {'clf__metric': 'minkowski', 'clf__n_neighbors': 9, 'clf__weights': 'distance', 'tfidf__ngram_range': (1, 2)}\n",
      "Mean: 0.792500 Stdev:(0.067823) with: {'clf__metric': 'minkowski', 'clf__n_neighbors': 9, 'clf__weights': 'distance', 'tfidf__ngram_range': (1, 3)}\n",
      "Mean: 0.711250 Stdev:(0.067187) with: {'clf__metric': 'minkowski', 'clf__n_neighbors': 10, 'clf__weights': 'uniform', 'tfidf__ngram_range': (1, 1)}\n",
      "Mean: 0.715000 Stdev:(0.080971) with: {'clf__metric': 'minkowski', 'clf__n_neighbors': 10, 'clf__weights': 'uniform', 'tfidf__ngram_range': (1, 2)}\n",
      "Mean: 0.678750 Stdev:(0.073962) with: {'clf__metric': 'minkowski', 'clf__n_neighbors': 10, 'clf__weights': 'uniform', 'tfidf__ngram_range': (1, 3)}\n",
      "Mean: 0.805000 Stdev:(0.053092) with: {'clf__metric': 'minkowski', 'clf__n_neighbors': 10, 'clf__weights': 'distance', 'tfidf__ngram_range': (1, 1)}\n",
      "Mean: 0.796250 Stdev:(0.058909) with: {'clf__metric': 'minkowski', 'clf__n_neighbors': 10, 'clf__weights': 'distance', 'tfidf__ngram_range': (1, 2)}\n",
      "Mean: 0.786250 Stdev:(0.057132) with: {'clf__metric': 'minkowski', 'clf__n_neighbors': 10, 'clf__weights': 'distance', 'tfidf__ngram_range': (1, 3)}\n",
      "Mean: nan Stdev:(nan) with: {'clf__metric': 'chebyshev', 'clf__n_neighbors': 3, 'clf__weights': 'uniform', 'tfidf__ngram_range': (1, 1)}\n",
      "Mean: nan Stdev:(nan) with: {'clf__metric': 'chebyshev', 'clf__n_neighbors': 3, 'clf__weights': 'uniform', 'tfidf__ngram_range': (1, 2)}\n",
      "Mean: nan Stdev:(nan) with: {'clf__metric': 'chebyshev', 'clf__n_neighbors': 3, 'clf__weights': 'uniform', 'tfidf__ngram_range': (1, 3)}\n",
      "Mean: nan Stdev:(nan) with: {'clf__metric': 'chebyshev', 'clf__n_neighbors': 3, 'clf__weights': 'distance', 'tfidf__ngram_range': (1, 1)}\n",
      "Mean: nan Stdev:(nan) with: {'clf__metric': 'chebyshev', 'clf__n_neighbors': 3, 'clf__weights': 'distance', 'tfidf__ngram_range': (1, 2)}\n",
      "Mean: nan Stdev:(nan) with: {'clf__metric': 'chebyshev', 'clf__n_neighbors': 3, 'clf__weights': 'distance', 'tfidf__ngram_range': (1, 3)}\n",
      "Mean: nan Stdev:(nan) with: {'clf__metric': 'chebyshev', 'clf__n_neighbors': 4, 'clf__weights': 'uniform', 'tfidf__ngram_range': (1, 1)}\n",
      "Mean: nan Stdev:(nan) with: {'clf__metric': 'chebyshev', 'clf__n_neighbors': 4, 'clf__weights': 'uniform', 'tfidf__ngram_range': (1, 2)}\n",
      "Mean: nan Stdev:(nan) with: {'clf__metric': 'chebyshev', 'clf__n_neighbors': 4, 'clf__weights': 'uniform', 'tfidf__ngram_range': (1, 3)}\n",
      "Mean: nan Stdev:(nan) with: {'clf__metric': 'chebyshev', 'clf__n_neighbors': 4, 'clf__weights': 'distance', 'tfidf__ngram_range': (1, 1)}\n",
      "Mean: nan Stdev:(nan) with: {'clf__metric': 'chebyshev', 'clf__n_neighbors': 4, 'clf__weights': 'distance', 'tfidf__ngram_range': (1, 2)}\n",
      "Mean: nan Stdev:(nan) with: {'clf__metric': 'chebyshev', 'clf__n_neighbors': 4, 'clf__weights': 'distance', 'tfidf__ngram_range': (1, 3)}\n",
      "Mean: nan Stdev:(nan) with: {'clf__metric': 'chebyshev', 'clf__n_neighbors': 5, 'clf__weights': 'uniform', 'tfidf__ngram_range': (1, 1)}\n",
      "Mean: nan Stdev:(nan) with: {'clf__metric': 'chebyshev', 'clf__n_neighbors': 5, 'clf__weights': 'uniform', 'tfidf__ngram_range': (1, 2)}\n",
      "Mean: nan Stdev:(nan) with: {'clf__metric': 'chebyshev', 'clf__n_neighbors': 5, 'clf__weights': 'uniform', 'tfidf__ngram_range': (1, 3)}\n",
      "Mean: nan Stdev:(nan) with: {'clf__metric': 'chebyshev', 'clf__n_neighbors': 5, 'clf__weights': 'distance', 'tfidf__ngram_range': (1, 1)}\n",
      "Mean: nan Stdev:(nan) with: {'clf__metric': 'chebyshev', 'clf__n_neighbors': 5, 'clf__weights': 'distance', 'tfidf__ngram_range': (1, 2)}\n",
      "Mean: nan Stdev:(nan) with: {'clf__metric': 'chebyshev', 'clf__n_neighbors': 5, 'clf__weights': 'distance', 'tfidf__ngram_range': (1, 3)}\n",
      "Mean: nan Stdev:(nan) with: {'clf__metric': 'chebyshev', 'clf__n_neighbors': 7, 'clf__weights': 'uniform', 'tfidf__ngram_range': (1, 1)}\n",
      "Mean: nan Stdev:(nan) with: {'clf__metric': 'chebyshev', 'clf__n_neighbors': 7, 'clf__weights': 'uniform', 'tfidf__ngram_range': (1, 2)}\n",
      "Mean: nan Stdev:(nan) with: {'clf__metric': 'chebyshev', 'clf__n_neighbors': 7, 'clf__weights': 'uniform', 'tfidf__ngram_range': (1, 3)}\n",
      "Mean: nan Stdev:(nan) with: {'clf__metric': 'chebyshev', 'clf__n_neighbors': 7, 'clf__weights': 'distance', 'tfidf__ngram_range': (1, 1)}\n",
      "Mean: nan Stdev:(nan) with: {'clf__metric': 'chebyshev', 'clf__n_neighbors': 7, 'clf__weights': 'distance', 'tfidf__ngram_range': (1, 2)}\n",
      "Mean: nan Stdev:(nan) with: {'clf__metric': 'chebyshev', 'clf__n_neighbors': 7, 'clf__weights': 'distance', 'tfidf__ngram_range': (1, 3)}\n",
      "Mean: nan Stdev:(nan) with: {'clf__metric': 'chebyshev', 'clf__n_neighbors': 8, 'clf__weights': 'uniform', 'tfidf__ngram_range': (1, 1)}\n",
      "Mean: nan Stdev:(nan) with: {'clf__metric': 'chebyshev', 'clf__n_neighbors': 8, 'clf__weights': 'uniform', 'tfidf__ngram_range': (1, 2)}\n",
      "Mean: nan Stdev:(nan) with: {'clf__metric': 'chebyshev', 'clf__n_neighbors': 8, 'clf__weights': 'uniform', 'tfidf__ngram_range': (1, 3)}\n",
      "Mean: nan Stdev:(nan) with: {'clf__metric': 'chebyshev', 'clf__n_neighbors': 8, 'clf__weights': 'distance', 'tfidf__ngram_range': (1, 1)}\n",
      "Mean: nan Stdev:(nan) with: {'clf__metric': 'chebyshev', 'clf__n_neighbors': 8, 'clf__weights': 'distance', 'tfidf__ngram_range': (1, 2)}\n",
      "Mean: nan Stdev:(nan) with: {'clf__metric': 'chebyshev', 'clf__n_neighbors': 8, 'clf__weights': 'distance', 'tfidf__ngram_range': (1, 3)}\n",
      "Mean: nan Stdev:(nan) with: {'clf__metric': 'chebyshev', 'clf__n_neighbors': 9, 'clf__weights': 'uniform', 'tfidf__ngram_range': (1, 1)}\n",
      "Mean: nan Stdev:(nan) with: {'clf__metric': 'chebyshev', 'clf__n_neighbors': 9, 'clf__weights': 'uniform', 'tfidf__ngram_range': (1, 2)}\n",
      "Mean: nan Stdev:(nan) with: {'clf__metric': 'chebyshev', 'clf__n_neighbors': 9, 'clf__weights': 'uniform', 'tfidf__ngram_range': (1, 3)}\n",
      "Mean: nan Stdev:(nan) with: {'clf__metric': 'chebyshev', 'clf__n_neighbors': 9, 'clf__weights': 'distance', 'tfidf__ngram_range': (1, 1)}\n",
      "Mean: nan Stdev:(nan) with: {'clf__metric': 'chebyshev', 'clf__n_neighbors': 9, 'clf__weights': 'distance', 'tfidf__ngram_range': (1, 2)}\n",
      "Mean: nan Stdev:(nan) with: {'clf__metric': 'chebyshev', 'clf__n_neighbors': 9, 'clf__weights': 'distance', 'tfidf__ngram_range': (1, 3)}\n",
      "Mean: nan Stdev:(nan) with: {'clf__metric': 'chebyshev', 'clf__n_neighbors': 10, 'clf__weights': 'uniform', 'tfidf__ngram_range': (1, 1)}\n",
      "Mean: nan Stdev:(nan) with: {'clf__metric': 'chebyshev', 'clf__n_neighbors': 10, 'clf__weights': 'uniform', 'tfidf__ngram_range': (1, 2)}\n",
      "Mean: nan Stdev:(nan) with: {'clf__metric': 'chebyshev', 'clf__n_neighbors': 10, 'clf__weights': 'uniform', 'tfidf__ngram_range': (1, 3)}\n",
      "Mean: nan Stdev:(nan) with: {'clf__metric': 'chebyshev', 'clf__n_neighbors': 10, 'clf__weights': 'distance', 'tfidf__ngram_range': (1, 1)}\n",
      "Mean: nan Stdev:(nan) with: {'clf__metric': 'chebyshev', 'clf__n_neighbors': 10, 'clf__weights': 'distance', 'tfidf__ngram_range': (1, 2)}\n",
      "Mean: nan Stdev:(nan) with: {'clf__metric': 'chebyshev', 'clf__n_neighbors': 10, 'clf__weights': 'distance', 'tfidf__ngram_range': (1, 3)}\n",
      "Mean: 0.757500 Stdev:(0.057064) with: {'clf__metric': 'euclidean', 'clf__n_neighbors': 3, 'clf__weights': 'uniform', 'tfidf__ngram_range': (1, 1)}\n",
      "Mean: 0.755000 Stdev:(0.055114) with: {'clf__metric': 'euclidean', 'clf__n_neighbors': 3, 'clf__weights': 'uniform', 'tfidf__ngram_range': (1, 2)}\n",
      "Mean: 0.747500 Stdev:(0.056954) with: {'clf__metric': 'euclidean', 'clf__n_neighbors': 3, 'clf__weights': 'uniform', 'tfidf__ngram_range': (1, 3)}\n",
      "Mean: 0.761250 Stdev:(0.055748) with: {'clf__metric': 'euclidean', 'clf__n_neighbors': 3, 'clf__weights': 'distance', 'tfidf__ngram_range': (1, 1)}\n",
      "Mean: 0.761250 Stdev:(0.055467) with: {'clf__metric': 'euclidean', 'clf__n_neighbors': 3, 'clf__weights': 'distance', 'tfidf__ngram_range': (1, 2)}\n",
      "Mean: 0.755000 Stdev:(0.058949) with: {'clf__metric': 'euclidean', 'clf__n_neighbors': 3, 'clf__weights': 'distance', 'tfidf__ngram_range': (1, 3)}\n",
      "Mean: 0.755000 Stdev:(0.046503) with: {'clf__metric': 'euclidean', 'clf__n_neighbors': 4, 'clf__weights': 'uniform', 'tfidf__ngram_range': (1, 1)}\n",
      "Mean: 0.767500 Stdev:(0.047500) with: {'clf__metric': 'euclidean', 'clf__n_neighbors': 4, 'clf__weights': 'uniform', 'tfidf__ngram_range': (1, 2)}\n",
      "Mean: 0.760000 Stdev:(0.071764) with: {'clf__metric': 'euclidean', 'clf__n_neighbors': 4, 'clf__weights': 'uniform', 'tfidf__ngram_range': (1, 3)}\n",
      "Mean: 0.762500 Stdev:(0.043661) with: {'clf__metric': 'euclidean', 'clf__n_neighbors': 4, 'clf__weights': 'distance', 'tfidf__ngram_range': (1, 1)}\n",
      "Mean: 0.780000 Stdev:(0.043732) with: {'clf__metric': 'euclidean', 'clf__n_neighbors': 4, 'clf__weights': 'distance', 'tfidf__ngram_range': (1, 2)}\n",
      "Mean: 0.772500 Stdev:(0.067035) with: {'clf__metric': 'euclidean', 'clf__n_neighbors': 4, 'clf__weights': 'distance', 'tfidf__ngram_range': (1, 3)}\n",
      "Mean: 0.750000 Stdev:(0.048734) with: {'clf__metric': 'euclidean', 'clf__n_neighbors': 5, 'clf__weights': 'uniform', 'tfidf__ngram_range': (1, 1)}\n",
      "Mean: 0.760000 Stdev:(0.052974) with: {'clf__metric': 'euclidean', 'clf__n_neighbors': 5, 'clf__weights': 'uniform', 'tfidf__ngram_range': (1, 2)}\n",
      "Mean: 0.753750 Stdev:(0.060221) with: {'clf__metric': 'euclidean', 'clf__n_neighbors': 5, 'clf__weights': 'uniform', 'tfidf__ngram_range': (1, 3)}\n",
      "Mean: 0.767500 Stdev:(0.043732) with: {'clf__metric': 'euclidean', 'clf__n_neighbors': 5, 'clf__weights': 'distance', 'tfidf__ngram_range': (1, 1)}\n",
      "Mean: 0.786250 Stdev:(0.048878) with: {'clf__metric': 'euclidean', 'clf__n_neighbors': 5, 'clf__weights': 'distance', 'tfidf__ngram_range': (1, 2)}\n",
      "Mean: 0.776250 Stdev:(0.054328) with: {'clf__metric': 'euclidean', 'clf__n_neighbors': 5, 'clf__weights': 'distance', 'tfidf__ngram_range': (1, 3)}\n",
      "Mean: 0.750000 Stdev:(0.074791) with: {'clf__metric': 'euclidean', 'clf__n_neighbors': 7, 'clf__weights': 'uniform', 'tfidf__ngram_range': (1, 1)}\n",
      "Mean: 0.761250 Stdev:(0.063110) with: {'clf__metric': 'euclidean', 'clf__n_neighbors': 7, 'clf__weights': 'uniform', 'tfidf__ngram_range': (1, 2)}\n",
      "Mean: 0.746250 Stdev:(0.080632) with: {'clf__metric': 'euclidean', 'clf__n_neighbors': 7, 'clf__weights': 'uniform', 'tfidf__ngram_range': (1, 3)}\n",
      "Mean: 0.782500 Stdev:(0.052500) with: {'clf__metric': 'euclidean', 'clf__n_neighbors': 7, 'clf__weights': 'distance', 'tfidf__ngram_range': (1, 1)}\n",
      "Mean: 0.796250 Stdev:(0.045087) with: {'clf__metric': 'euclidean', 'clf__n_neighbors': 7, 'clf__weights': 'distance', 'tfidf__ngram_range': (1, 2)}\n",
      "Mean: 0.786250 Stdev:(0.059280) with: {'clf__metric': 'euclidean', 'clf__n_neighbors': 7, 'clf__weights': 'distance', 'tfidf__ngram_range': (1, 3)}\n",
      "Mean: 0.741250 Stdev:(0.078671) with: {'clf__metric': 'euclidean', 'clf__n_neighbors': 8, 'clf__weights': 'uniform', 'tfidf__ngram_range': (1, 1)}\n",
      "Mean: 0.738750 Stdev:(0.085413) with: {'clf__metric': 'euclidean', 'clf__n_neighbors': 8, 'clf__weights': 'uniform', 'tfidf__ngram_range': (1, 2)}\n",
      "Mean: 0.712500 Stdev:(0.090657) with: {'clf__metric': 'euclidean', 'clf__n_neighbors': 8, 'clf__weights': 'uniform', 'tfidf__ngram_range': (1, 3)}\n",
      "Mean: 0.798750 Stdev:(0.058216) with: {'clf__metric': 'euclidean', 'clf__n_neighbors': 8, 'clf__weights': 'distance', 'tfidf__ngram_range': (1, 1)}\n",
      "Mean: 0.798750 Stdev:(0.048878) with: {'clf__metric': 'euclidean', 'clf__n_neighbors': 8, 'clf__weights': 'distance', 'tfidf__ngram_range': (1, 2)}\n",
      "Mean: 0.786250 Stdev:(0.066250) with: {'clf__metric': 'euclidean', 'clf__n_neighbors': 8, 'clf__weights': 'distance', 'tfidf__ngram_range': (1, 3)}\n",
      "Mean: 0.721250 Stdev:(0.072898) with: {'clf__metric': 'euclidean', 'clf__n_neighbors': 9, 'clf__weights': 'uniform', 'tfidf__ngram_range': (1, 1)}\n",
      "Mean: 0.726250 Stdev:(0.085046) with: {'clf__metric': 'euclidean', 'clf__n_neighbors': 9, 'clf__weights': 'uniform', 'tfidf__ngram_range': (1, 2)}\n",
      "Mean: 0.715000 Stdev:(0.087464) with: {'clf__metric': 'euclidean', 'clf__n_neighbors': 9, 'clf__weights': 'uniform', 'tfidf__ngram_range': (1, 3)}\n",
      "Mean: 0.791250 Stdev:(0.058108) with: {'clf__metric': 'euclidean', 'clf__n_neighbors': 9, 'clf__weights': 'distance', 'tfidf__ngram_range': (1, 1)}\n",
      "Mean: 0.795000 Stdev:(0.058417) with: {'clf__metric': 'euclidean', 'clf__n_neighbors': 9, 'clf__weights': 'distance', 'tfidf__ngram_range': (1, 2)}\n",
      "Mean: 0.792500 Stdev:(0.067823) with: {'clf__metric': 'euclidean', 'clf__n_neighbors': 9, 'clf__weights': 'distance', 'tfidf__ngram_range': (1, 3)}\n",
      "Mean: 0.711250 Stdev:(0.067187) with: {'clf__metric': 'euclidean', 'clf__n_neighbors': 10, 'clf__weights': 'uniform', 'tfidf__ngram_range': (1, 1)}\n",
      "Mean: 0.715000 Stdev:(0.080971) with: {'clf__metric': 'euclidean', 'clf__n_neighbors': 10, 'clf__weights': 'uniform', 'tfidf__ngram_range': (1, 2)}\n",
      "Mean: 0.678750 Stdev:(0.073962) with: {'clf__metric': 'euclidean', 'clf__n_neighbors': 10, 'clf__weights': 'uniform', 'tfidf__ngram_range': (1, 3)}\n",
      "Mean: 0.805000 Stdev:(0.053092) with: {'clf__metric': 'euclidean', 'clf__n_neighbors': 10, 'clf__weights': 'distance', 'tfidf__ngram_range': (1, 1)}\n",
      "Mean: 0.796250 Stdev:(0.058909) with: {'clf__metric': 'euclidean', 'clf__n_neighbors': 10, 'clf__weights': 'distance', 'tfidf__ngram_range': (1, 2)}\n",
      "Mean: 0.786250 Stdev:(0.057132) with: {'clf__metric': 'euclidean', 'clf__n_neighbors': 10, 'clf__weights': 'distance', 'tfidf__ngram_range': (1, 3)}\n",
      "Mean: 0.751250 Stdev:(0.051067) with: {'clf__metric': 'manhattan', 'clf__n_neighbors': 3, 'clf__weights': 'uniform', 'tfidf__ngram_range': (1, 1)}\n",
      "Mean: 0.740000 Stdev:(0.050249) with: {'clf__metric': 'manhattan', 'clf__n_neighbors': 3, 'clf__weights': 'uniform', 'tfidf__ngram_range': (1, 2)}\n",
      "Mean: 0.753750 Stdev:(0.051856) with: {'clf__metric': 'manhattan', 'clf__n_neighbors': 3, 'clf__weights': 'uniform', 'tfidf__ngram_range': (1, 3)}\n",
      "Mean: 0.756250 Stdev:(0.051006) with: {'clf__metric': 'manhattan', 'clf__n_neighbors': 3, 'clf__weights': 'distance', 'tfidf__ngram_range': (1, 1)}\n",
      "Mean: 0.756250 Stdev:(0.058962) with: {'clf__metric': 'manhattan', 'clf__n_neighbors': 3, 'clf__weights': 'distance', 'tfidf__ngram_range': (1, 2)}\n",
      "Mean: 0.757500 Stdev:(0.060000) with: {'clf__metric': 'manhattan', 'clf__n_neighbors': 3, 'clf__weights': 'distance', 'tfidf__ngram_range': (1, 3)}\n",
      "Mean: 0.752500 Stdev:(0.059372) with: {'clf__metric': 'manhattan', 'clf__n_neighbors': 4, 'clf__weights': 'uniform', 'tfidf__ngram_range': (1, 1)}\n",
      "Mean: 0.745000 Stdev:(0.046837) with: {'clf__metric': 'manhattan', 'clf__n_neighbors': 4, 'clf__weights': 'uniform', 'tfidf__ngram_range': (1, 2)}\n",
      "Mean: 0.763750 Stdev:(0.060325) with: {'clf__metric': 'manhattan', 'clf__n_neighbors': 4, 'clf__weights': 'uniform', 'tfidf__ngram_range': (1, 3)}\n",
      "Mean: 0.771250 Stdev:(0.056472) with: {'clf__metric': 'manhattan', 'clf__n_neighbors': 4, 'clf__weights': 'distance', 'tfidf__ngram_range': (1, 1)}\n",
      "Mean: 0.770000 Stdev:(0.052500) with: {'clf__metric': 'manhattan', 'clf__n_neighbors': 4, 'clf__weights': 'distance', 'tfidf__ngram_range': (1, 2)}\n",
      "Mean: 0.777500 Stdev:(0.065622) with: {'clf__metric': 'manhattan', 'clf__n_neighbors': 4, 'clf__weights': 'distance', 'tfidf__ngram_range': (1, 3)}\n",
      "Mean: 0.761250 Stdev:(0.056027) with: {'clf__metric': 'manhattan', 'clf__n_neighbors': 5, 'clf__weights': 'uniform', 'tfidf__ngram_range': (1, 1)}\n",
      "Mean: 0.752500 Stdev:(0.043946) with: {'clf__metric': 'manhattan', 'clf__n_neighbors': 5, 'clf__weights': 'uniform', 'tfidf__ngram_range': (1, 2)}\n",
      "Mean: 0.757500 Stdev:(0.058949) with: {'clf__metric': 'manhattan', 'clf__n_neighbors': 5, 'clf__weights': 'uniform', 'tfidf__ngram_range': (1, 3)}\n",
      "Mean: 0.783750 Stdev:(0.053341) with: {'clf__metric': 'manhattan', 'clf__n_neighbors': 5, 'clf__weights': 'distance', 'tfidf__ngram_range': (1, 1)}\n",
      "Mean: 0.776250 Stdev:(0.053165) with: {'clf__metric': 'manhattan', 'clf__n_neighbors': 5, 'clf__weights': 'distance', 'tfidf__ngram_range': (1, 2)}\n",
      "Mean: 0.781250 Stdev:(0.063554) with: {'clf__metric': 'manhattan', 'clf__n_neighbors': 5, 'clf__weights': 'distance', 'tfidf__ngram_range': (1, 3)}\n",
      "Mean: 0.747500 Stdev:(0.064904) with: {'clf__metric': 'manhattan', 'clf__n_neighbors': 7, 'clf__weights': 'uniform', 'tfidf__ngram_range': (1, 1)}\n",
      "Mean: 0.741250 Stdev:(0.052157) with: {'clf__metric': 'manhattan', 'clf__n_neighbors': 7, 'clf__weights': 'uniform', 'tfidf__ngram_range': (1, 2)}\n",
      "Mean: 0.740000 Stdev:(0.073909) with: {'clf__metric': 'manhattan', 'clf__n_neighbors': 7, 'clf__weights': 'uniform', 'tfidf__ngram_range': (1, 3)}\n",
      "Mean: 0.785000 Stdev:(0.057500) with: {'clf__metric': 'manhattan', 'clf__n_neighbors': 7, 'clf__weights': 'distance', 'tfidf__ngram_range': (1, 1)}\n",
      "Mean: 0.782500 Stdev:(0.055396) with: {'clf__metric': 'manhattan', 'clf__n_neighbors': 7, 'clf__weights': 'distance', 'tfidf__ngram_range': (1, 2)}\n",
      "Mean: 0.787500 Stdev:(0.061492) with: {'clf__metric': 'manhattan', 'clf__n_neighbors': 7, 'clf__weights': 'distance', 'tfidf__ngram_range': (1, 3)}\n",
      "Mean: 0.740000 Stdev:(0.066097) with: {'clf__metric': 'manhattan', 'clf__n_neighbors': 8, 'clf__weights': 'uniform', 'tfidf__ngram_range': (1, 1)}\n",
      "Mean: 0.727500 Stdev:(0.057228) with: {'clf__metric': 'manhattan', 'clf__n_neighbors': 8, 'clf__weights': 'uniform', 'tfidf__ngram_range': (1, 2)}\n",
      "Mean: 0.727500 Stdev:(0.068648) with: {'clf__metric': 'manhattan', 'clf__n_neighbors': 8, 'clf__weights': 'uniform', 'tfidf__ngram_range': (1, 3)}\n",
      "Mean: 0.795000 Stdev:(0.049434) with: {'clf__metric': 'manhattan', 'clf__n_neighbors': 8, 'clf__weights': 'distance', 'tfidf__ngram_range': (1, 1)}\n",
      "Mean: 0.785000 Stdev:(0.057228) with: {'clf__metric': 'manhattan', 'clf__n_neighbors': 8, 'clf__weights': 'distance', 'tfidf__ngram_range': (1, 2)}\n",
      "Mean: 0.792500 Stdev:(0.049434) with: {'clf__metric': 'manhattan', 'clf__n_neighbors': 8, 'clf__weights': 'distance', 'tfidf__ngram_range': (1, 3)}\n",
      "Mean: 0.740000 Stdev:(0.056679) with: {'clf__metric': 'manhattan', 'clf__n_neighbors': 9, 'clf__weights': 'uniform', 'tfidf__ngram_range': (1, 1)}\n",
      "Mean: 0.708750 Stdev:(0.056472) with: {'clf__metric': 'manhattan', 'clf__n_neighbors': 9, 'clf__weights': 'uniform', 'tfidf__ngram_range': (1, 2)}\n",
      "Mean: 0.715000 Stdev:(0.083442) with: {'clf__metric': 'manhattan', 'clf__n_neighbors': 9, 'clf__weights': 'uniform', 'tfidf__ngram_range': (1, 3)}\n",
      "Mean: 0.790000 Stdev:(0.048670) with: {'clf__metric': 'manhattan', 'clf__n_neighbors': 9, 'clf__weights': 'distance', 'tfidf__ngram_range': (1, 1)}\n",
      "Mean: 0.781250 Stdev:(0.055972) with: {'clf__metric': 'manhattan', 'clf__n_neighbors': 9, 'clf__weights': 'distance', 'tfidf__ngram_range': (1, 2)}\n",
      "Mean: 0.787500 Stdev:(0.065192) with: {'clf__metric': 'manhattan', 'clf__n_neighbors': 9, 'clf__weights': 'distance', 'tfidf__ngram_range': (1, 3)}\n",
      "Mean: 0.730000 Stdev:(0.069642) with: {'clf__metric': 'manhattan', 'clf__n_neighbors': 10, 'clf__weights': 'uniform', 'tfidf__ngram_range': (1, 1)}\n",
      "Mean: 0.711250 Stdev:(0.056582) with: {'clf__metric': 'manhattan', 'clf__n_neighbors': 10, 'clf__weights': 'uniform', 'tfidf__ngram_range': (1, 2)}\n",
      "Mean: 0.688750 Stdev:(0.079146) with: {'clf__metric': 'manhattan', 'clf__n_neighbors': 10, 'clf__weights': 'uniform', 'tfidf__ngram_range': (1, 3)}\n",
      "Mean: 0.801250 Stdev:(0.052871) with: {'clf__metric': 'manhattan', 'clf__n_neighbors': 10, 'clf__weights': 'distance', 'tfidf__ngram_range': (1, 1)}\n",
      "Mean: 0.793750 Stdev:(0.054271) with: {'clf__metric': 'manhattan', 'clf__n_neighbors': 10, 'clf__weights': 'distance', 'tfidf__ngram_range': (1, 2)}\n",
      "Mean: 0.791250 Stdev:(0.060994) with: {'clf__metric': 'manhattan', 'clf__n_neighbors': 10, 'clf__weights': 'distance', 'tfidf__ngram_range': (1, 3)}\n"
     ]
    }
   ],
   "source": [
    "print(\"Best parameters set found on development set:\")\n",
    "print(clf_knn.best_params_)\n",
    "print(\"Best Score:\", clf_knn.best_score_)\n",
    "print('\\n')\n",
    "\n",
    "means = clf_knn.cv_results_['mean_test_score']\n",
    "stds = clf_knn.cv_results_['std_test_score']\n",
    "params = clf_knn.cv_results_['params']\n",
    "for mean, stdev, param in zip(means,stds,params):\n",
    "    print(\"Mean: %f Stdev:(%f) with: %r\" % (mean,stdev,param))"
   ]
  },
  {
   "cell_type": "code",
   "execution_count": 92,
   "id": "da5a4e3f",
   "metadata": {},
   "outputs": [
    {
     "data": {
      "text/html": [
       "<div>\n",
       "<style scoped>\n",
       "    .dataframe tbody tr th:only-of-type {\n",
       "        vertical-align: middle;\n",
       "    }\n",
       "\n",
       "    .dataframe tbody tr th {\n",
       "        vertical-align: top;\n",
       "    }\n",
       "\n",
       "    .dataframe thead th {\n",
       "        text-align: right;\n",
       "    }\n",
       "</style>\n",
       "<table border=\"1\" class=\"dataframe\">\n",
       "  <thead>\n",
       "    <tr style=\"text-align: right;\">\n",
       "      <th></th>\n",
       "      <th>clf__metric</th>\n",
       "      <th>clf__n_neighbors</th>\n",
       "      <th>clf__weights</th>\n",
       "      <th>tfidf__ngram_range</th>\n",
       "      <th>test_score</th>\n",
       "      <th>train_score</th>\n",
       "    </tr>\n",
       "  </thead>\n",
       "  <tbody>\n",
       "    <tr>\n",
       "      <th>0</th>\n",
       "      <td>minkowski</td>\n",
       "      <td>3</td>\n",
       "      <td>uniform</td>\n",
       "      <td>(1, 1)</td>\n",
       "      <td>0.75750</td>\n",
       "      <td>0.814028</td>\n",
       "    </tr>\n",
       "    <tr>\n",
       "      <th>1</th>\n",
       "      <td>minkowski</td>\n",
       "      <td>3</td>\n",
       "      <td>uniform</td>\n",
       "      <td>(1, 2)</td>\n",
       "      <td>0.75500</td>\n",
       "      <td>0.811250</td>\n",
       "    </tr>\n",
       "    <tr>\n",
       "      <th>2</th>\n",
       "      <td>minkowski</td>\n",
       "      <td>3</td>\n",
       "      <td>uniform</td>\n",
       "      <td>(1, 3)</td>\n",
       "      <td>0.74750</td>\n",
       "      <td>0.806667</td>\n",
       "    </tr>\n",
       "    <tr>\n",
       "      <th>3</th>\n",
       "      <td>minkowski</td>\n",
       "      <td>3</td>\n",
       "      <td>distance</td>\n",
       "      <td>(1, 1)</td>\n",
       "      <td>0.76125</td>\n",
       "      <td>0.827639</td>\n",
       "    </tr>\n",
       "    <tr>\n",
       "      <th>4</th>\n",
       "      <td>minkowski</td>\n",
       "      <td>3</td>\n",
       "      <td>distance</td>\n",
       "      <td>(1, 2)</td>\n",
       "      <td>0.76125</td>\n",
       "      <td>0.827778</td>\n",
       "    </tr>\n",
       "    <tr>\n",
       "      <th>...</th>\n",
       "      <td>...</td>\n",
       "      <td>...</td>\n",
       "      <td>...</td>\n",
       "      <td>...</td>\n",
       "      <td>...</td>\n",
       "      <td>...</td>\n",
       "    </tr>\n",
       "    <tr>\n",
       "      <th>163</th>\n",
       "      <td>manhattan</td>\n",
       "      <td>10</td>\n",
       "      <td>uniform</td>\n",
       "      <td>(1, 2)</td>\n",
       "      <td>0.71125</td>\n",
       "      <td>0.767500</td>\n",
       "    </tr>\n",
       "    <tr>\n",
       "      <th>164</th>\n",
       "      <td>manhattan</td>\n",
       "      <td>10</td>\n",
       "      <td>uniform</td>\n",
       "      <td>(1, 3)</td>\n",
       "      <td>0.68875</td>\n",
       "      <td>0.755278</td>\n",
       "    </tr>\n",
       "    <tr>\n",
       "      <th>165</th>\n",
       "      <td>manhattan</td>\n",
       "      <td>10</td>\n",
       "      <td>distance</td>\n",
       "      <td>(1, 1)</td>\n",
       "      <td>0.80125</td>\n",
       "      <td>0.846944</td>\n",
       "    </tr>\n",
       "    <tr>\n",
       "      <th>166</th>\n",
       "      <td>manhattan</td>\n",
       "      <td>10</td>\n",
       "      <td>distance</td>\n",
       "      <td>(1, 2)</td>\n",
       "      <td>0.79375</td>\n",
       "      <td>0.848056</td>\n",
       "    </tr>\n",
       "    <tr>\n",
       "      <th>167</th>\n",
       "      <td>manhattan</td>\n",
       "      <td>10</td>\n",
       "      <td>distance</td>\n",
       "      <td>(1, 3)</td>\n",
       "      <td>0.79125</td>\n",
       "      <td>0.845972</td>\n",
       "    </tr>\n",
       "  </tbody>\n",
       "</table>\n",
       "<p>168 rows × 6 columns</p>\n",
       "</div>"
      ],
      "text/plain": [
       "    clf__metric  clf__n_neighbors clf__weights tfidf__ngram_range  test_score  \\\n",
       "0     minkowski                 3      uniform             (1, 1)     0.75750   \n",
       "1     minkowski                 3      uniform             (1, 2)     0.75500   \n",
       "2     minkowski                 3      uniform             (1, 3)     0.74750   \n",
       "3     minkowski                 3     distance             (1, 1)     0.76125   \n",
       "4     minkowski                 3     distance             (1, 2)     0.76125   \n",
       "..          ...               ...          ...                ...         ...   \n",
       "163   manhattan                10      uniform             (1, 2)     0.71125   \n",
       "164   manhattan                10      uniform             (1, 3)     0.68875   \n",
       "165   manhattan                10     distance             (1, 1)     0.80125   \n",
       "166   manhattan                10     distance             (1, 2)     0.79375   \n",
       "167   manhattan                10     distance             (1, 3)     0.79125   \n",
       "\n",
       "     train_score  \n",
       "0       0.814028  \n",
       "1       0.811250  \n",
       "2       0.806667  \n",
       "3       0.827639  \n",
       "4       0.827778  \n",
       "..           ...  \n",
       "163     0.767500  \n",
       "164     0.755278  \n",
       "165     0.846944  \n",
       "166     0.848056  \n",
       "167     0.845972  \n",
       "\n",
       "[168 rows x 6 columns]"
      ]
     },
     "execution_count": 92,
     "metadata": {},
     "output_type": "execute_result"
    }
   ],
   "source": [
    "result_knn = pd.DataFrame(clf_knn.cv_results_['params'])\n",
    "result_knn['test_score'] = clf_knn.cv_results_['mean_test_score']\n",
    "result_knn['train_score'] = clf_knn.cv_results_['mean_train_score']\n",
    "result_knn"
   ]
  },
  {
   "cell_type": "markdown",
   "id": "055ddbf3",
   "metadata": {},
   "source": [
    "# model-knn\n"
   ]
  },
  {
   "cell_type": "code",
   "execution_count": 93,
   "id": "ce72a236",
   "metadata": {},
   "outputs": [
    {
     "name": "stdout",
     "output_type": "stream",
     "text": [
      "train time: 0.055s\n",
      "================================\n",
      "Hasil Score data train :  0.84125\n",
      "Hasil Score data test :  0.805\n"
     ]
    }
   ],
   "source": [
    "from sklearn.model_selection import GridSearchCV\n",
    "\n",
    "t = time()\n",
    "#training the model\n",
    "knn = Pipeline([('tfidf', TfidfVectorizer(ngram_range=(1,3))),\n",
    "#                 ,norm='l1'\n",
    "# ,smooth_idf=True,sublinear_tf=True, use_idf=True\n",
    "#                  ('sampling',ADASYN()),\n",
    "                ('clf', KNeighborsClassifier(n_neighbors=8, metric='minkowski', weights='distance'))])\n",
    "# metric='minkowski', n_jobs=1, p=2, weights='distance',\n",
    "\n",
    "knn.fit(X_train,y_train)\n",
    "\n",
    "training_time = time() - t\n",
    "\n",
    "print(\"train time: %0.3fs\" % training_time)\n",
    "\n",
    "print(\"================================\")\n",
    "print(\"Hasil Score data train : \", knn.score(X_train,y_train))\n",
    "print(\"Hasil Score data test : \", knn.score(X_test,y_test))"
   ]
  },
  {
   "cell_type": "code",
   "execution_count": 94,
   "id": "a89dab22",
   "metadata": {},
   "outputs": [
    {
     "name": "stdout",
     "output_type": "stream",
     "text": [
      "cross validation score [0.675  0.8375 0.7125 0.9    0.8    0.7125 0.7875 0.775  0.85   0.8125]\n",
      "Average cross-validation Mean Score : 0.7863\n",
      "Average cross-validation Std Score : 0.0662\n"
     ]
    }
   ],
   "source": [
    "cv = KFold(n_splits=10, shuffle=True, random_state=1)\n",
    "accuracy = cross_val_score(knn, X_train, y_train, scoring = 'accuracy', cv = cv)\n",
    "print('cross validation score', accuracy)\n",
    "\n",
    "#compute average cross-validation score\n",
    "print('Average cross-validation Mean Score : {:.4f}'.format(accuracy.mean()))\n",
    "\n",
    "#compute average cross-validation score\n",
    "print('Average cross-validation Std Score : {:.4f}'.format(accuracy.std()))"
   ]
  },
  {
   "cell_type": "code",
   "execution_count": 95,
   "id": "fa57284e",
   "metadata": {},
   "outputs": [
    {
     "data": {
      "image/png": "[encoded data removed]",
      "text/plain": [
       "<Figure size 432x288 with 1 Axes>"
      ]
     },
     "metadata": {
      "needs_background": "light"
     },
     "output_type": "display_data"
    },
    {
     "data": {
      "text/plain": [
       "<AxesSubplot:title={'center':'Learning Curve for KNeighborsClassifier'}, xlabel='Training Instances', ylabel='Score'>"
      ]
     },
     "execution_count": 95,
     "metadata": {},
     "output_type": "execute_result"
    }
   ],
   "source": [
    "from yellowbrick.model_selection import LearningCurve\n",
    "\n",
    "# Instantiate the clustering model and visualizer\n",
    "visualizer = LearningCurve(knn, scoring=\"accuracy\")\n",
    "\n",
    "visualizer.fit(X_train, y_train)        # Fit the data to the visualizer\n",
    "visualizer.show()           # Finalize and render the figure"
   ]
  },
  {
   "cell_type": "code",
   "execution_count": 96,
   "id": "8aef6bf9",
   "metadata": {},
   "outputs": [
    {
     "data": {
      "image/png": "[encoded data removed]",
      "text/plain": [
       "<Figure size 432x288 with 1 Axes>"
      ]
     },
     "metadata": {
      "needs_background": "light"
     },
     "output_type": "display_data"
    },
    {
     "data": {
      "text/plain": [
       "<AxesSubplot:title={'center':'Cross Validation Scores for KNeighborsClassifier'}, xlabel='Training Instances', ylabel='Score'>"
      ]
     },
     "execution_count": 96,
     "metadata": {},
     "output_type": "execute_result"
    }
   ],
   "source": [
    "#!pip install yellowbrick\n",
    "\n",
    "from yellowbrick.model_selection import CVScores\n",
    "import warnings\n",
    "warnings.filterwarnings('ignore')\n",
    "\n",
    "cv = KFold(n_splits=10, shuffle=True, random_state=1)\n",
    "visualizer = CVScores(knn, cv=cv, scoring='accuracy',color=\"orange\")\n",
    "\n",
    "visualizer.fit(X_train,y_train)\n",
    "visualizer.show()"
   ]
  },
  {
   "cell_type": "code",
   "execution_count": 97,
   "id": "e4f164e5",
   "metadata": {},
   "outputs": [
    {
     "name": "stdout",
     "output_type": "stream",
     "text": [
      "test time:  0.026s\n",
      "========================\n",
      "              precision    recall  f1-score   support\n",
      "\n",
      "           0       0.79      0.95      0.86       127\n",
      "           1       0.87      0.55      0.67        73\n",
      "\n",
      "    accuracy                           0.81       200\n",
      "   macro avg       0.83      0.75      0.77       200\n",
      "weighted avg       0.82      0.81      0.79       200\n",
      "\n",
      "\n",
      "\n",
      "Accuracy Score - KNN: 0.805\n"
     ]
    }
   ],
   "source": [
    "t = time()\n",
    "#get predictions from model\n",
    "\n",
    "#get predictions from model\n",
    "y_pred_knn = knn.predict(X_test)\n",
    "# y_pred_knn = clf_knn.predict(X_test)\n",
    "\n",
    "test_time = time() - t\n",
    "print(\"test time:  %0.3fs\" % test_time)\n",
    "print(\"========================\")\n",
    "\n",
    "print(classification_report(y_test, y_pred_knn))\n",
    "print('\\n')\n",
    "\n",
    "#print('BEST KNN MODEL')\n",
    "print('Accuracy Score - KNN:', metrics.accuracy_score(y_test, y_pred_knn)) \n",
    "#print('MAE Score:', mean_absolute_error(y_test, y_pred_knn)) \n",
    "#print('MSE Score', mean_squared_error(y_test, y_pred_knn)) "
   ]
  },
  {
   "cell_type": "code",
   "execution_count": 98,
   "id": "35bf2342",
   "metadata": {},
   "outputs": [
    {
     "data": {
      "image/png": "[encoded data removed]",
      "text/plain": [
       "<Figure size 432x288 with 2 Axes>"
      ]
     },
     "metadata": {
      "needs_background": "light"
     },
     "output_type": "display_data"
    },
    {
     "data": {
      "text/plain": [
       "<AxesSubplot:title={'center':'KNeighborsClassifier Classification Report'}>"
      ]
     },
     "execution_count": 98,
     "metadata": {},
     "output_type": "execute_result"
    }
   ],
   "source": [
    "from yellowbrick.classifier import ClassificationReport\n",
    "\n",
    "# Instantiate the classification model and visualizer\n",
    "visualizer = ClassificationReport(knn,support=True,cmap='Oranges')\n",
    "\n",
    "visualizer.fit(X_train, y_train)  # Fit the visualizer and the model\n",
    "visualizer.score(X_test, y_test)  # Evaluate the model on the test data\n",
    "visualizer.show()"
   ]
  },
  {
   "cell_type": "code",
   "execution_count": 99,
   "id": "8302049e",
   "metadata": {},
   "outputs": [
    {
     "data": {
      "text/html": [
       "<div>\n",
       "<style scoped>\n",
       "    .dataframe tbody tr th:only-of-type {\n",
       "        vertical-align: middle;\n",
       "    }\n",
       "\n",
       "    .dataframe tbody tr th {\n",
       "        vertical-align: top;\n",
       "    }\n",
       "\n",
       "    .dataframe thead th {\n",
       "        text-align: right;\n",
       "    }\n",
       "</style>\n",
       "<table border=\"1\" class=\"dataframe\">\n",
       "  <thead>\n",
       "    <tr style=\"text-align: right;\">\n",
       "      <th></th>\n",
       "      <th>negatif</th>\n",
       "      <th>positif</th>\n",
       "      <th>accuracy</th>\n",
       "      <th>macro avg</th>\n",
       "      <th>weighted avg</th>\n",
       "    </tr>\n",
       "  </thead>\n",
       "  <tbody>\n",
       "    <tr>\n",
       "      <th>precision</th>\n",
       "      <td>0.785714</td>\n",
       "      <td>0.869565</td>\n",
       "      <td>0.805</td>\n",
       "      <td>0.827640</td>\n",
       "      <td>0.816320</td>\n",
       "    </tr>\n",
       "    <tr>\n",
       "      <th>recall</th>\n",
       "      <td>0.952756</td>\n",
       "      <td>0.547945</td>\n",
       "      <td>0.805</td>\n",
       "      <td>0.750351</td>\n",
       "      <td>0.805000</td>\n",
       "    </tr>\n",
       "    <tr>\n",
       "      <th>f1-score</th>\n",
       "      <td>0.861210</td>\n",
       "      <td>0.672269</td>\n",
       "      <td>0.805</td>\n",
       "      <td>0.766739</td>\n",
       "      <td>0.792246</td>\n",
       "    </tr>\n",
       "    <tr>\n",
       "      <th>support</th>\n",
       "      <td>127.000000</td>\n",
       "      <td>73.000000</td>\n",
       "      <td>0.805</td>\n",
       "      <td>200.000000</td>\n",
       "      <td>200.000000</td>\n",
       "    </tr>\n",
       "  </tbody>\n",
       "</table>\n",
       "</div>"
      ],
      "text/plain": [
       "              negatif    positif  accuracy   macro avg  weighted avg\n",
       "precision    0.785714   0.869565     0.805    0.827640      0.816320\n",
       "recall       0.952756   0.547945     0.805    0.750351      0.805000\n",
       "f1-score     0.861210   0.672269     0.805    0.766739      0.792246\n",
       "support    127.000000  73.000000     0.805  200.000000    200.000000"
      ]
     },
     "metadata": {},
     "output_type": "display_data"
    },
    {
     "data": {
      "image/png": "[encoded data removed]",
      "text/plain": [
       "<Figure size 720x576 with 1 Axes>"
      ]
     },
     "metadata": {
      "needs_background": "light"
     },
     "output_type": "display_data"
    }
   ],
   "source": [
    "#create labels to be used and columns for a confusion matrix downstream\n",
    "target_labels = ['negatif', 'positif']\n",
    "\n",
    "#store the classification report as a dictionary\n",
    "cr_dict = classification_report(y_test, y_pred_knn, target_names=target_labels, output_dict=True)\n",
    "\n",
    "#convert the classification report dictionary into a data frame\n",
    "cr_data = pd.DataFrame(cr_dict)\n",
    "display(cr_data)\n",
    "\n",
    "#plot the classification report scores\n",
    "ax = cr_data.iloc[:-1, :2].plot.bar(figsize=(10,8),color=['#d9534f','#5bc0de'])\n",
    "plt.title(\"KNN Classification Report\")\n",
    "plt.xlabel('Metrics', labelpad=20)\n",
    "\n",
    "#fix the x-tick mark rotation\n",
    "plt.xticks(rotation=0)\n",
    "\n",
    "#create custom y-tick marks and labels for percentage representation\n",
    "#create an array of even tick marks from 0 to 1\n",
    "percent_ticks = np.linspace(0,1,11, endpoint=True)\n",
    "\n",
    "#create a list of strings representing the percentage at each tick\n",
    "percent_labels = [f'{int(t*100)}%' for t in percent_ticks]\n",
    "plt.yticks(ticks=percent_ticks,labels=percent_labels)\n",
    "plt.ylabel('Percentage (%)')\n",
    "plt.margins(0.2,0.2)\n",
    "\n",
    "for p in ax.patches:\n",
    "    ax.annotate(\n",
    "        \"{}%\".format(str(np.round(p.get_height()*100, 2))),\n",
    "        xy=(p.get_x()*1+p.get_width()/2, p.get_height()*1.02),\n",
    "        ha='center',\n",
    "    )"
   ]
  },
  {
   "cell_type": "code",
   "execution_count": 100,
   "id": "4e3477dd",
   "metadata": {},
   "outputs": [
    {
     "name": "stdout",
     "output_type": "stream",
     "text": [
      "[[121   6]\n",
      " [ 33  40]]\n"
     ]
    }
   ],
   "source": [
    "from sklearn.metrics import confusion_matrix\n",
    "cm_knn = confusion_matrix(y_test, y_pred_knn)\n",
    "print(cm_knn)"
   ]
  },
  {
   "cell_type": "code",
   "execution_count": 101,
   "id": "819067aa",
   "metadata": {},
   "outputs": [],
   "source": [
    "def calculate_sensitivity_specificity(y_test, y_pred_test):\n",
    "    # Note: More parameters are defined than necessary. \n",
    "    # This would allow return of other measures other than sensitivity and specificity\n",
    "    \n",
    "    # Get true/false for whether a breach actually occurred\n",
    "    actual_pos = y_test == 1\n",
    "    actual_neg = y_test == 0\n",
    "    \n",
    "    # Get true and false test (true test match actual, false tests differ from actual)\n",
    "    true_pos = (y_pred_knn == 1) & (actual_pos)\n",
    "    false_pos = (y_pred_knn == 1) & (actual_neg)\n",
    "    true_neg = (y_pred_knn == 0) & (actual_neg)\n",
    "    false_neg = (y_pred_knn == 0) & (actual_pos)\n",
    "    \n",
    "    # Calculate accuracy\n",
    "    accuracy_knn = np.mean(y_pred_test == y_test)\n",
    "    \n",
    "    # Calculate sensitivity and specificity\n",
    "    sensitivity_knn = np.sum(true_pos) / np.sum(actual_pos)\n",
    "    specificity_knn = np.sum(true_neg) / np.sum(actual_neg)\n",
    "    \n",
    "    return sensitivity_knn, specificity_knn, accuracy_knn"
   ]
  },
  {
   "cell_type": "code",
   "execution_count": 102,
   "id": "fe5bd9f8",
   "metadata": {},
   "outputs": [
    {
     "name": "stdout",
     "output_type": "stream",
     "text": [
      "Sensitivity: 0.547945205479452\n",
      "Specificity: 0.952755905511811\n",
      "Accuracy: 0.805\n"
     ]
    }
   ],
   "source": [
    "sensitivity_knn, specificity_knn, accuracy_knn = calculate_sensitivity_specificity(y_test, y_pred_knn)\n",
    "print ('Sensitivity:', sensitivity_knn)\n",
    "print ('Specificity:', specificity_knn)\n",
    "print ('Accuracy:', accuracy_knn)"
   ]
  },
  {
   "cell_type": "code",
   "execution_count": 103,
   "id": "f097bd84",
   "metadata": {},
   "outputs": [
    {
     "data": {
      "text/plain": [
       "<AxesSubplot:>"
      ]
     },
     "execution_count": 103,
     "metadata": {},
     "output_type": "execute_result"
    },
    {
     "data": {
      "image/png": "[encoded data removed]",
      "text/plain": [
       "<Figure size 432x288 with 2 Axes>"
      ]
     },
     "metadata": {
      "needs_background": "light"
     },
     "output_type": "display_data"
    }
   ],
   "source": [
    "import seaborn as sns\n",
    "\n",
    "group_names = ['True Neg','False Pos','False Neg','True Pos']\n",
    "group_counts = [\"{0:0.0f}\".format(value) for value in\n",
    "                cm_knn.flatten()]\n",
    "group_percentages = [\"{0:.2%}\".format(value) for value in\n",
    "                     cm_knn.flatten()/np.sum(cm_knn)]\n",
    "labels = [f\"{v1}\\n{v2}\\n{v3}\" for v1, v2, v3 in\n",
    "          zip(group_names,group_counts,group_percentages)]\n",
    "labels = np.asarray(labels).reshape(2,2)\n",
    "sns.heatmap(cm_knn, annot=labels, fmt='', cmap='Oranges')"
   ]
  },
  {
   "cell_type": "code",
   "execution_count": 104,
   "id": "e11eada0",
   "metadata": {},
   "outputs": [
    {
     "data": {
      "text/plain": [
       "0.7503505554956315"
      ]
     },
     "execution_count": 104,
     "metadata": {},
     "output_type": "execute_result"
    }
   ],
   "source": [
    "auc_roc_knn=metrics.roc_auc_score(y_test,y_pred_knn)\n",
    "auc_roc_knn"
   ]
  },
  {
   "cell_type": "code",
   "execution_count": 105,
   "id": "2cea1e1f",
   "metadata": {},
   "outputs": [
    {
     "data": {
      "text/plain": [
       "0.7503505554956315"
      ]
     },
     "execution_count": 105,
     "metadata": {},
     "output_type": "execute_result"
    }
   ],
   "source": [
    "from sklearn.metrics import roc_curve, auc\n",
    "false_positive_rate, true_positive_rate, thresholds = roc_curve(y_test, y_pred_knn)\n",
    "roc_auc_knn = auc(false_positive_rate, true_positive_rate)\n",
    "roc_auc_knn"
   ]
  },
  {
   "cell_type": "code",
   "execution_count": 106,
   "id": "2ac98949",
   "metadata": {},
   "outputs": [
    {
     "data": {
      "text/plain": [
       "Text(0.5, 0, 'False Positive Rate')"
      ]
     },
     "execution_count": 106,
     "metadata": {},
     "output_type": "execute_result"
    },
    {
     "data": {
      "image/png": "[encoded data removed]",
      "text/plain": [
       "<Figure size 720x720 with 1 Axes>"
      ]
     },
     "metadata": {
      "needs_background": "light"
     },
     "output_type": "display_data"
    }
   ],
   "source": [
    "import matplotlib.pyplot as plt\n",
    "plt.figure(figsize=(10,10))\n",
    "plt.title('Receiver Operating Characteristic KNN Algorithm')\n",
    "plt.plot(false_positive_rate,true_positive_rate, color='orange',label = 'AUC = %0.2f' % roc_auc_knn)\n",
    "plt.legend(loc = 'lower right')\n",
    "plt.plot([0, 1], [0, 1],linestyle='--')\n",
    "plt.axis('tight')\n",
    "plt.ylabel('True Positive Rate')\n",
    "plt.xlabel('False Positive Rate')"
   ]
  },
  {
   "cell_type": "code",
   "execution_count": 107,
   "id": "450b1e87",
   "metadata": {},
   "outputs": [
    {
     "data": {
      "image/png": "[encoded data removed]",
      "text/plain": [
       "<Figure size 360x504 with 1 Axes>"
      ]
     },
     "metadata": {
      "needs_background": "light"
     },
     "output_type": "display_data"
    }
   ],
   "source": [
    "import matplotlib.pyplot as plt\n",
    "plt.figure(figsize=(5, 7))\n",
    "ax = sns.distplot(data_test['label'], hist=False, color=\"r\", label=\"Actual Value\")\n",
    "sns.distplot(y_pred_knn, hist=False, color=\"b\", label=\"Predicted Values\", ax=ax)\n",
    "plt.title('Actual vs Precited value for label')\n",
    "plt.show()\n",
    "plt.close()"
   ]
  },
  {
   "cell_type": "markdown",
   "id": "b7dbde28",
   "metadata": {},
   "source": [
    "# Perbandingan Setiap Algoritma\n"
   ]
  },
  {
   "cell_type": "code",
   "execution_count": 108,
   "id": "950dfbf1",
   "metadata": {},
   "outputs": [
    {
     "data": {
      "text/html": [
       "<div>\n",
       "<style scoped>\n",
       "    .dataframe tbody tr th:only-of-type {\n",
       "        vertical-align: middle;\n",
       "    }\n",
       "\n",
       "    .dataframe tbody tr th {\n",
       "        vertical-align: top;\n",
       "    }\n",
       "\n",
       "    .dataframe thead th {\n",
       "        text-align: right;\n",
       "    }\n",
       "</style>\n",
       "<table border=\"1\" class=\"dataframe\">\n",
       "  <thead>\n",
       "    <tr style=\"text-align: right;\">\n",
       "      <th></th>\n",
       "      <th>BNB</th>\n",
       "      <th>KNN</th>\n",
       "    </tr>\n",
       "  </thead>\n",
       "  <tbody>\n",
       "    <tr>\n",
       "      <th>Accuracy</th>\n",
       "      <td>0.755</td>\n",
       "      <td>0.805</td>\n",
       "    </tr>\n",
       "  </tbody>\n",
       "</table>\n",
       "</div>"
      ],
      "text/plain": [
       "            BNB    KNN\n",
       "Accuracy  0.755  0.805"
      ]
     },
     "metadata": {},
     "output_type": "display_data"
    },
    {
     "data": {
      "image/png": "[encoded data removed]",
      "text/plain": [
       "<Figure size 720x576 with 1 Axes>"
      ]
     },
     "metadata": {
      "needs_background": "light"
     },
     "output_type": "display_data"
    }
   ],
   "source": [
    "#store the classification report as a dictionary\n",
    "clf_bnb = metrics.accuracy_score(y_test, y_pred_bnb)\n",
    "clf_knn = metrics.accuracy_score(y_test, y_pred_knn)\n",
    "cr_dict = [clf_bnb, clf_knn]\n",
    "\n",
    "#convert the classification report dictionary into a data frame\n",
    "cr_data = pd.DataFrame({\n",
    "    \"BNB\":[clf_bnb],\n",
    "    \"KNN\":[clf_knn],\n",
    "},\n",
    "index = [\"Accuracy\"])\n",
    "display(cr_data)\n",
    "\n",
    "ax = cr_data.plot.bar(figsize=(10,8),color=['#ad5389','#004e92', '#ff9068'])\n",
    "#plt.bar(cr_data, figsize=(10,8),color=['#5bc0de', '#d8634f'])\n",
    "plt.title(\"Comparison Accuracy Models Report Using Tuning Hyperparameter minyak goreng  50: 50\")\n",
    "plt.xlabel('Metric', labelpad=20)\n",
    "\n",
    "#fix the x-tick mark rotation\n",
    "plt.xticks(rotation=0)\n",
    "\n",
    "#create custom y-tick marks and labels for percentage representation\n",
    "#create an array of even tick marks from 0 to 1\n",
    "percent_ticks = np.linspace(0,1,11, endpoint=True)\n",
    "\n",
    "#create a list of strings representing the percentage at each tick\n",
    "percent_labels = [f'{int(t*100)}%' for t in percent_ticks]\n",
    "plt.yticks(ticks=percent_ticks,labels=percent_labels)\n",
    "plt.ylabel('Accuracy Percentage (%)')\n",
    "\n",
    "for p in ax.patches:\n",
    "    ax.annotate(\n",
    "        \"{}%\".format(str(np.round(p.get_height()*100, 2))),\n",
    "        xy=(p.get_x()*1+p.get_width()/2, p.get_height()*1.02),\n",
    "        ha='center')"
   ]
  },
  {
   "cell_type": "markdown",
   "id": "9526dcbe",
   "metadata": {},
   "source": [
    "# COMPARE CLASSIFICATION REPORT\n"
   ]
  },
  {
   "cell_type": "code",
   "execution_count": 109,
   "id": "1c2e1c23",
   "metadata": {},
   "outputs": [
    {
     "name": "stdout",
     "output_type": "stream",
     "text": [
      "Bernoulli Naive Bayes\n",
      "--------------------------\n",
      "Accuracy: 0.755\n",
      "Precision: 0.688\n",
      "Recall: 0.603\n",
      "F-Measure: 0.642\n",
      "==========================\n",
      "KNN\n",
      "--------------------------\n",
      "Accuracy: 0.805\n",
      "Precision: 0.870\n",
      "Recall: 0.548\n",
      "F-Measure: 0.672\n",
      "==========================\n"
     ]
    }
   ],
   "source": [
    "from sklearn.metrics import precision_score\n",
    "from sklearn.metrics import recall_score\n",
    "from sklearn.metrics import f1_score\n",
    "\n",
    "#BNB\n",
    "print(\"Bernoulli Naive Bayes\")\n",
    "print(\"--------------------------\")\n",
    "accuracy_bnb = accuracy_score(y_test, y_pred_bnb)\n",
    "print('Accuracy: %.3f' % accuracy_bnb)\n",
    "precision_bnb = precision_score(y_test, y_pred_bnb, average='binary')\n",
    "print('Precision: %.3f' % precision_bnb)\n",
    "recall_bnb = recall_score(y_test, y_pred_bnb, average='binary')\n",
    "print('Recall: %.3f' % recall_bnb)\n",
    "score_bnb = f1_score(y_test, y_pred_bnb, average='binary')\n",
    "print('F-Measure: %.3f' % score_bnb)\n",
    "print(\"==========================\")\n",
    "#====================\n",
    "#KNN\n",
    "print(\"KNN\")\n",
    "print(\"--------------------------\")\n",
    "accuracy_knn = accuracy_score(y_test, y_pred_knn)\n",
    "print('Accuracy: %.3f' % accuracy_knn)\n",
    "precision_knn = precision_score(y_test, y_pred_knn, average='binary')\n",
    "print('Precision: %.3f' % precision_knn)\n",
    "recall_knn = recall_score(y_test, y_pred_knn, average='binary')\n",
    "print('Recall: %.3f' % recall_knn)\n",
    "score_knn = f1_score(y_test, y_pred_knn, average='binary')\n",
    "print('F-Measure: %.3f' % score_knn)\n",
    "print(\"==========================\")\n",
    "#====================="
   ]
  },
  {
   "cell_type": "raw",
   "id": "8ab68c4a",
   "metadata": {},
   "source": [
    "Comparison accuracy not and tuning algorithm\n"
   ]
  },
  {
   "cell_type": "code",
   "execution_count": 110,
   "id": "500af1a4",
   "metadata": {},
   "outputs": [],
   "source": [
    "acc_tuning_5050_minyakgoreng = [accuracy_bnb,accuracy_knn]"
   ]
  },
  {
   "cell_type": "code",
   "execution_count": 111,
   "id": "a47c45f0",
   "metadata": {},
   "outputs": [
    {
     "data": {
      "text/plain": [
       "['terbaru-kfold-acc_tuning_3070_minyakgoreng.pkl']"
      ]
     },
     "execution_count": 111,
     "metadata": {},
     "output_type": "execute_result"
    }
   ],
   "source": [
    "import joblib\n",
    "final_model = acc_tuning_5050_minyakgoreng\n",
    "joblib.dump(final_model, \"terbaru-kfold-acc_tuning_3070_minyakgoreng.pkl\")"
   ]
  },
  {
   "cell_type": "code",
   "execution_count": 112,
   "id": "6e3c1b4e",
   "metadata": {},
   "outputs": [
    {
     "data": {
      "text/html": [
       "<div>\n",
       "<style scoped>\n",
       "    .dataframe tbody tr th:only-of-type {\n",
       "        vertical-align: middle;\n",
       "    }\n",
       "\n",
       "    .dataframe tbody tr th {\n",
       "        vertical-align: top;\n",
       "    }\n",
       "\n",
       "    .dataframe thead th {\n",
       "        text-align: right;\n",
       "    }\n",
       "</style>\n",
       "<table border=\"1\" class=\"dataframe\">\n",
       "  <thead>\n",
       "    <tr style=\"text-align: right;\">\n",
       "      <th></th>\n",
       "      <th>BNB</th>\n",
       "      <th>KNN</th>\n",
       "    </tr>\n",
       "  </thead>\n",
       "  <tbody>\n",
       "    <tr>\n",
       "      <th>accuracy</th>\n",
       "      <td>0.755000</td>\n",
       "      <td>0.805000</td>\n",
       "    </tr>\n",
       "    <tr>\n",
       "      <th>precision</th>\n",
       "      <td>0.687500</td>\n",
       "      <td>0.869565</td>\n",
       "    </tr>\n",
       "    <tr>\n",
       "      <th>recall</th>\n",
       "      <td>0.602740</td>\n",
       "      <td>0.602740</td>\n",
       "    </tr>\n",
       "    <tr>\n",
       "      <th>f1-score</th>\n",
       "      <td>0.642336</td>\n",
       "      <td>0.672269</td>\n",
       "    </tr>\n",
       "  </tbody>\n",
       "</table>\n",
       "</div>"
      ],
      "text/plain": [
       "                BNB       KNN\n",
       "accuracy   0.755000  0.805000\n",
       "precision  0.687500  0.869565\n",
       "recall     0.602740  0.602740\n",
       "f1-score   0.642336  0.672269"
      ]
     },
     "metadata": {},
     "output_type": "display_data"
    }
   ],
   "source": [
    "#convert the classification report dictionary into a data frame\n",
    "cr_data = pd.DataFrame({\n",
    "    \"BNB\":[accuracy_bnb,precision_bnb,recall_bnb,score_bnb],\n",
    "    \"KNN\":[accuracy_knn,precision_knn,recall_bnb,score_knn],\n",
    "},\n",
    "index = [\"accuracy\",\"precision\",\"recall\",\"f1-score\"])\n",
    "display(cr_data)"
   ]
  },
  {
   "cell_type": "code",
   "execution_count": 113,
   "id": "54003d74",
   "metadata": {},
   "outputs": [
    {
     "data": {
      "image/png": "[encoded data removed]",
      "text/plain": [
       "<Figure size 1440x720 with 1 Axes>"
      ]
     },
     "metadata": {
      "needs_background": "light"
     },
     "output_type": "display_data"
    }
   ],
   "source": [
    "#plot the classification report scores\n",
    "ax = cr_data.iloc[:, :4].plot.bar(figsize=(20,10),color=['#77A1D3','#eaafc8', '#BE93C5'])\n",
    "plt.title(\"Perbandingan Model lassification Report minyak goreng  50:50 Hyperparameter Tuning GridSearchCV\", fontsize=18,ha='center')\n",
    "plt.xlabel('Metrik Performa', labelpad=20, fontsize=16,ha='center')\n",
    "\n",
    "#fix the x-tick mark rotation\n",
    "plt.xticks(rotation=0)\n",
    "\n",
    "#create custom y-tick marks and labels for percentage representation\n",
    "#create an array of even tick marks from 0 to 1\n",
    "percent_ticks = np.linspace(0,1,11, endpoint=True)\n",
    "\n",
    "#create a list of strings representing the percentage at each tick\n",
    "percent_labels = [f'{int(t*100)}%' for t in percent_ticks]\n",
    "plt.yticks(ticks=percent_ticks,labels=percent_labels)\n",
    "plt.ylabel('Persentase (%)', fontsize=16,ha='center')\n",
    "plt.margins(0.2,0.2)\n",
    "\n",
    "for p in ax.patches:\n",
    "    ax.annotate(\n",
    "        \"{}%\".format(str(np.round(p.get_height()*100, 2))),\n",
    "        xy=(p.get_x()*1+p.get_width()/2, p.get_height()*1.02),\n",
    "         fontsize=16, ha='center',\n",
    "    )"
   ]
  },
  {
   "cell_type": "code",
   "execution_count": null,
   "id": "e7676915",
   "metadata": {},
   "outputs": [],
   "source": []
  },
  {
   "cell_type": "code",
   "execution_count": null,
   "id": "99c557cc",
   "metadata": {},
   "outputs": [],
   "source": []
  },
  {
   "cell_type": "code",
   "execution_count": null,
   "id": "8bb3e4e4",
   "metadata": {},
   "outputs": [],
   "source": []
  }
 ],
 "metadata": {
  "kernelspec": {
   "display_name": "Python 3 (ipykernel)",
   "language": "python",
   "name": "python3"
  },
  "language_info": {
   "codemirror_mode": {
    "name": "ipython",
    "version": 3
   },
   "file_extension": ".py",
   "mimetype": "text/x-python",
   "name": "python",
   "nbconvert_exporter": "python",
   "pygments_lexer": "ipython3",
   "version": "3.9.12"
  }
 },
 "nbformat": 4,
 "nbformat_minor": 5
}
